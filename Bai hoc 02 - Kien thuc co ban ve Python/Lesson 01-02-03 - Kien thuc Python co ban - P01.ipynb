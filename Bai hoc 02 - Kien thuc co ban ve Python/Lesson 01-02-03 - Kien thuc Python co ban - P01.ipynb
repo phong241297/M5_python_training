{
 "cells": [
  {
   "cell_type": "markdown",
   "metadata": {},
   "source": [
    "# Kiến thức Python Cơ Bản - Phần 01"
   ]
  },
  {
   "cell_type": "markdown",
   "metadata": {},
   "source": [
    "## Cú pháp hàm print trong Python"
   ]
  },
  {
   "cell_type": "code",
   "execution_count": 3,
   "metadata": {
    "ExecuteTime": {
     "end_time": "2022-11-07T13:20:47.289258Z",
     "start_time": "2022-11-07T13:20:47.276141Z"
    },
    "scrolled": true
   },
   "outputs": [
    {
     "name": "stdout",
     "output_type": "stream",
     "text": [
      "1. Chào mừng bạn đến với khoá học Python Cơ Bản tại IMIC.\n",
      "2. Khoá học Python này rất hữu ích.\n",
      "3. Ha ha hi hi :D\n"
     ]
    }
   ],
   "source": [
    "# Đây là ví dụ đầu tiên về Python\n",
    "print(\"1. Chào mừng bạn đến với khoá học Python Cơ Bản tại IMIC.\")\n",
    "print(\"2. Khoá học Python này rất hữu ích.\")\n",
    "print('3. Ha ha hi hi :D')"
   ]
  },
  {
   "cell_type": "markdown",
   "metadata": {},
   "source": [
    "## Khai báo biến và sử dụng hàm input để nhận giá trị người dùng gõ vào từ bàn phím"
   ]
  },
  {
   "cell_type": "code",
   "execution_count": 5,
   "metadata": {
    "ExecuteTime": {
     "end_time": "2022-11-07T13:41:48.785362Z",
     "start_time": "2022-11-07T13:40:37.826781Z"
    },
    "scrolled": true
   },
   "outputs": [
    {
     "name": "stdout",
     "output_type": "stream",
     "text": [
      "Nhập vào 1 giá trị bất kỳ bạn muốn:100\n"
     ]
    },
    {
     "data": {
      "text/plain": [
       "'100'"
      ]
     },
     "execution_count": 5,
     "metadata": {},
     "output_type": "execute_result"
    }
   ],
   "source": [
    "# a = 100 hay quá bạn ơi\n",
    "# Sử dụng hàm input() để cho phép người dùng có thể nhận được giá trị vào\n",
    "a = input('Nhập vào 1 giá trị bất kỳ bạn muốn:')\n",
    "a"
   ]
  },
  {
   "cell_type": "markdown",
   "metadata": {},
   "source": [
    "Bạn đã lưu trữ giá trị biến, vậy giả sử bạn nhập vào 1 giá trị số thì bạn có thể thay đổi giá trị số đó rồi in ra như sau"
   ]
  },
  {
   "cell_type": "code",
   "execution_count": 13,
   "metadata": {
    "ExecuteTime": {
     "end_time": "2022-11-07T14:05:24.200879Z",
     "start_time": "2022-11-07T14:05:24.179643Z"
    }
   },
   "outputs": [
    {
     "data": {
      "text/plain": [
       "100"
      ]
     },
     "execution_count": 13,
     "metadata": {},
     "output_type": "execute_result"
    }
   ],
   "source": [
    "# Thử 1\n",
    "a = 100\n",
    "b = 200\n",
    "c = 300\n",
    "a\n",
    "b\n",
    "c"
   ]
  },
  {
   "cell_type": "code",
   "execution_count": 14,
   "metadata": {
    "ExecuteTime": {
     "end_time": "2022-11-07T14:06:53.510216Z",
     "start_time": "2022-11-07T14:06:53.497121Z"
    }
   },
   "outputs": [
    {
     "name": "stdout",
     "output_type": "stream",
     "text": [
      "100\n",
      "200\n",
      "300\n"
     ]
    }
   ],
   "source": [
    "# Thử 2\n",
    "a = 100\n",
    "b = 200\n",
    "c = 300\n",
    "print(a)\n",
    "print(b)\n",
    "print(c)"
   ]
  },
  {
   "cell_type": "code",
   "execution_count": 8,
   "metadata": {},
   "outputs": [
    {
     "name": "stdout",
     "output_type": "stream",
     "text": [
      "Nhập vào 1 số nguyên bất kỳ bạn muốn:15\n"
     ]
    },
    {
     "data": {
      "text/plain": [
       "15000"
      ]
     },
     "execution_count": 8,
     "metadata": {},
     "output_type": "execute_result"
    }
   ],
   "source": [
    "a = input('Nhập vào 1 số nguyên bất kỳ bạn muốn:')\n",
    "a = int(a) * 1000\n",
    "a"
   ]
  },
  {
   "cell_type": "code",
   "execution_count": 7,
   "metadata": {
    "ExecuteTime": {
     "end_time": "2022-11-07T14:03:19.974771Z",
     "start_time": "2022-11-07T14:03:17.296604Z"
    }
   },
   "outputs": [
    {
     "name": "stdout",
     "output_type": "stream",
     "text": [
      "Mời nhập vào giá trị số10\n",
      "210\n",
      "Ha ha\n"
     ]
    }
   ],
   "source": [
    "b = input('Mời nhập vào giá trị số')\n",
    "b = int(b) + 200\n",
    "print(b)\n",
    "print('Ha ha')"
   ]
  },
  {
   "cell_type": "markdown",
   "metadata": {},
   "source": [
    "- Các bạn cần lưu ý là giá trị mà bạn nhập vào qua hàm input luôn trả đầu ra là kiểu chuỗi nhé.\n",
    "- Và các bạn ghi nhớ các bạn muốn in ra được kết quả là phép nhân như trên thì bạn buộc phải sử dụng hàm chuyển đổi. Hàm int(a) có tác dụng chuyển giá trị a từ dạng str (string) sang int (interger)."
   ]
  },
  {
   "cell_type": "markdown",
   "metadata": {},
   "source": [
    "Giờ ta sẽ khai báo 2 biến a và b sau đó tính tổng của nó nhé."
   ]
  },
  {
   "cell_type": "code",
   "execution_count": 16,
   "metadata": {
    "ExecuteTime": {
     "end_time": "2022-11-07T14:15:55.380212Z",
     "start_time": "2022-11-07T14:15:52.611276Z"
    }
   },
   "outputs": [
    {
     "name": "stdout",
     "output_type": "stream",
     "text": [
      "Nhập vào giá trị a:10\n",
      "Nhập vào giá trị b:20\n",
      "30\n",
      "Kết quả a + b =  30\n",
      "Kết quả a + b = 30\n"
     ]
    }
   ],
   "source": [
    "a = input('Nhập vào giá trị a:')\n",
    "b = input('Nhập vào giá trị b:')\n",
    "kq = int(a) + int(b)\n",
    "print(kq)\n",
    "print('Kết quả a + b = ',kq)\n",
    "print(f'Kết quả a + b = {kq}')"
   ]
  },
  {
   "cell_type": "markdown",
   "metadata": {},
   "source": [
    "Cách viết f ở trên được gọi là f-strings. Nếu bạn bỏ chữ f đi thì chúng ta sẽ in ra 1 chuỗi bình thường là {ketqua} chứ không lấy ra giá trị ketqua mà chúng ta đã tính toán ở trên. Lưu ý f-strings chỉ bắt đầu xuất hiện từ phiên bản Python 3.6."
   ]
  },
  {
   "cell_type": "markdown",
   "metadata": {},
   "source": [
    "## Conditional in Python (if, else, elif ...)"
   ]
  },
  {
   "cell_type": "markdown",
   "metadata": {},
   "source": [
    "### If Single Statement"
   ]
  },
  {
   "cell_type": "code",
   "execution_count": 2,
   "metadata": {
    "ExecuteTime": {
     "end_time": "2022-11-09T12:42:42.262300Z",
     "start_time": "2022-11-09T12:42:42.249285Z"
    },
    "scrolled": true
   },
   "outputs": [
    {
     "name": "stdout",
     "output_type": "stream",
     "text": [
      "Ha ha :D\n",
      "Giá trị của a>=10 bạn nha :D\n",
      "Giá trị của a<=10 bạn nha :D\n"
     ]
    }
   ],
   "source": [
    "a = 10\n",
    "if a>=10:\n",
    "    print('Ha ha :D')\n",
    "    print('Giá trị của a>=10 bạn nha :D')    \n",
    "if a<=10:\n",
    "    print('Giá trị của a<=10 bạn nha :D')"
   ]
  },
  {
   "cell_type": "markdown",
   "metadata": {},
   "source": [
    "### Sử dụng toán tử in"
   ]
  },
  {
   "cell_type": "code",
   "execution_count": 5,
   "metadata": {
    "ExecuteTime": {
     "end_time": "2022-11-09T12:49:27.524223Z",
     "start_time": "2022-11-09T12:49:27.507114Z"
    }
   },
   "outputs": [
    {
     "name": "stdout",
     "output_type": "stream",
     "text": [
      "Có bạn này trong danh sách bạn nha :D\n"
     ]
    }
   ],
   "source": [
    "ten = \"Trần Thị B\"\n",
    "if ten in ['Hoàng Văn C', 'Nguyễn Văn A', 'Trần Thị B']:\n",
    "    print('Có bạn này trong danh sách bạn nha :D')\n",
    "else:\n",
    "    print('Ko có bạn ơi :<')"
   ]
  },
  {
   "cell_type": "markdown",
   "metadata": {},
   "source": [
    "### Viết 1 bài toán cộng trừ nhân chia đơn giản"
   ]
  },
  {
   "cell_type": "code",
   "execution_count": 8,
   "metadata": {
    "ExecuteTime": {
     "end_time": "2022-11-09T12:59:55.677246Z",
     "start_time": "2022-11-09T12:59:50.655354Z"
    }
   },
   "outputs": [
    {
     "name": "stdout",
     "output_type": "stream",
     "text": [
      "Nhập vào giá trị a:10\n",
      "Nhập vào giá trị b:20\n",
      "Bạn muốn sử dụng phép toán nào sau đây: +, -, *, /@\n",
      "Phép toán ko hợp lệ bạn ơi :D\n"
     ]
    }
   ],
   "source": [
    "a = int(input('Nhập vào giá trị a:'))\n",
    "b = int(input('Nhập vào giá trị b:'))\n",
    "pheptinh = input('Bạn muốn sử dụng phép toán nào sau đây: +, -, *, /')\n",
    "\n",
    "if pheptinh == '+':\n",
    "    print('Kết quả là: ', (a+b))\n",
    "elif pheptinh=='-':\n",
    "    print('Kết quả là: ', (a-b))\n",
    "elif pheptinh=='*':\n",
    "    print('Kết quả là: ', (a*b))\n",
    "elif pheptinh == '/':\n",
    "    print(f'Kết quả là: {a/b}')\n",
    "else:\n",
    "    print(f'Phép toán ko hợp lệ bạn ơi :D')"
   ]
  },
  {
   "cell_type": "markdown",
   "metadata": {},
   "source": [
    "### Bài toán xác định trạng thái nhiệt độ của nước"
   ]
  },
  {
   "cell_type": "code",
   "execution_count": 11,
   "metadata": {
    "ExecuteTime": {
     "end_time": "2022-11-09T13:08:50.239500Z",
     "start_time": "2022-11-09T13:08:47.104184Z"
    }
   },
   "outputs": [
    {
     "name": "stdout",
     "output_type": "stream",
     "text": [
      "Nhập vào 1 nhiệt độ bạn muốn:500\n",
      "Cháy\n"
     ]
    }
   ],
   "source": [
    "a = int(input('Nhập vào 1 nhiệt độ bạn muốn:'))\n",
    "if a<=0:\n",
    "    print('Băng giá')\n",
    "elif a>0 and a<=12:\n",
    "    print('Lạnh')\n",
    "elif a>12 and a<=25:\n",
    "    print('Ấm')\n",
    "elif a>25 and a<=75:\n",
    "    print('Nóng')\n",
    "elif a>75 and a<=100:\n",
    "    print('Rất Nóng')\n",
    "else:\n",
    "    print('Cháy')"
   ]
  },
  {
   "cell_type": "markdown",
   "metadata": {},
   "source": [
    "## Kiểu dữ liệu trong Python"
   ]
  },
  {
   "cell_type": "markdown",
   "metadata": {},
   "source": [
    "- Tên biến không được bắt đầu bằng số.\n",
    "- Tên biến không được trùng với các từ khoá trong Python.\n",
    "- Tên biến chỉ chứa các ký tự số, chữ và dấu _\n",
    "- Tên biến trong Python phân biệt chữ hoa và chữ thường. Vì thế 4 biến pi, PI, Pi và pI là 4 biến khác nhau.\n",
    "- Tên biến không được chứa dấu.\n",
    "- Tên biến không được đặt tên quá dài."
   ]
  },
  {
   "cell_type": "markdown",
   "metadata": {},
   "source": [
    "### Kiểu dữ liệu số nguyên (int)"
   ]
  },
  {
   "cell_type": "code",
   "execution_count": 24,
   "metadata": {},
   "outputs": [
    {
     "name": "stdout",
     "output_type": "stream",
     "text": [
      "<class 'int'>\n",
      "<class 'float'>\n"
     ]
    }
   ],
   "source": [
    "a = 100\n",
    "print(type(a))\n",
    "b = 8.5\n",
    "print(type(b))"
   ]
  },
  {
   "cell_type": "markdown",
   "metadata": {},
   "source": [
    "### Kiểu dữ liệu số thực (float)"
   ]
  },
  {
   "cell_type": "code",
   "execution_count": 27,
   "metadata": {},
   "outputs": [
    {
     "name": "stdout",
     "output_type": "stream",
     "text": [
      "Giá trị là: 7.50\n"
     ]
    }
   ],
   "source": [
    "a = 7.5\n",
    "print('Giá trị là: %.2f' %a)"
   ]
  },
  {
   "cell_type": "markdown",
   "metadata": {},
   "source": [
    "Ta sẽ sử dụng cấu trúc hàm print như sau:\n",
    "- print('%1.2f' %a)\n",
    "- Với f: float => hiển thị số thực.\n",
    "- 1. (1 số trước dấu phẩy, có thể bỏ qua)\n",
    "- .2 (2 số sau dấu phẩy, bạn muốn bao nhiêu số thì nhập vào)\n",
    "- %a: (sẽ thể hiện giá trị của biến a dưới dạng số thực và có 2 số sau dấu phẩy)"
   ]
  },
  {
   "cell_type": "markdown",
   "metadata": {},
   "source": [
    "Giờ ta sẽ thử nhập vào 2 biến a và b và in ra cùng lúc 2 giá trị đó với 1 số sau dấu phẩy"
   ]
  },
  {
   "cell_type": "code",
   "execution_count": 15,
   "metadata": {
    "ExecuteTime": {
     "end_time": "2022-11-09T13:24:05.091565Z",
     "start_time": "2022-11-09T13:24:05.080577Z"
    }
   },
   "outputs": [
    {
     "name": "stdout",
     "output_type": "stream",
     "text": [
      "ha ha = 4.60 hi hi = 8.500 he he = 8.50  hu hu = 9.500\n"
     ]
    }
   ],
   "source": [
    "a = 8.5\n",
    "b = 4.6\n",
    "c = 8.5\n",
    "d = 9.5\n",
    "print('ha ha = %.2f hi hi = %.3f he he = %.2f  hu hu = %.3f' %(b,c,a,d))"
   ]
  },
  {
   "cell_type": "markdown",
   "metadata": {},
   "source": [
    "### Kiểu dữ liệu dạng string"
   ]
  },
  {
   "cell_type": "code",
   "execution_count": 2,
   "metadata": {},
   "outputs": [
    {
     "name": "stdout",
     "output_type": "stream",
     "text": [
      "Tên tôi là Hoàng Văn C\n"
     ]
    }
   ],
   "source": [
    "# Khai bao biến lưu trữ giá trị kiểu chuỗi\n",
    "chuoi = 'Tên tôi là Hoàng Văn C'\n",
    "haha = \"Chào các bạn lớp Python nhé :D\"\n",
    "print(chuoi)"
   ]
  },
  {
   "cell_type": "markdown",
   "metadata": {},
   "source": [
    "### Kiểu dữ liệu list"
   ]
  },
  {
   "cell_type": "markdown",
   "metadata": {},
   "source": [
    "- List chính là kiểu danh sách (chứa các phần tử trong danh sách).\n",
    "- Ký kiệu bằng []."
   ]
  },
  {
   "cell_type": "code",
   "execution_count": 3,
   "metadata": {},
   "outputs": [
    {
     "name": "stdout",
     "output_type": "stream",
     "text": [
      "['apple', 'banana', 'cherry']\n",
      "<class 'list'>\n"
     ]
    }
   ],
   "source": [
    "#1. Khai báo 1 biến kiểu list\n",
    "a = ['apple','banana','cherry']\n",
    "b = [20,50,70,80]\n",
    "\n",
    "#2. Hiển thị giá trị của list a ra\n",
    "print(a)\n",
    "\n",
    "#3. Hiển thị kiểu dữ liệu \n",
    "print(type(a))"
   ]
  },
  {
   "cell_type": "code",
   "execution_count": 17,
   "metadata": {
    "ExecuteTime": {
     "end_time": "2022-11-09T13:28:26.714464Z",
     "start_time": "2022-11-09T13:28:26.703305Z"
    }
   },
   "outputs": [
    {
     "data": {
      "text/plain": [
       "[20, 50, 70, 80]"
      ]
     },
     "execution_count": 17,
     "metadata": {},
     "output_type": "execute_result"
    }
   ],
   "source": [
    "#1. Khai báo 1 biến kiểu list\n",
    "a = ['apple','banana','cherry']\n",
    "b = [20,50,70,80]\n",
    "\n",
    "#2. Hiển thị giá trị của list a ra\n",
    "b"
   ]
  },
  {
   "cell_type": "markdown",
   "metadata": {},
   "source": [
    "### Kiểu dữ liệu Tuple"
   ]
  },
  {
   "cell_type": "code",
   "execution_count": 4,
   "metadata": {},
   "outputs": [
    {
     "name": "stdout",
     "output_type": "stream",
     "text": [
      "('apple', 'banana', 'cherry')\n",
      "<class 'tuple'>\n"
     ]
    }
   ],
   "source": [
    "a = ('apple','banana','cherry')\n",
    "\n",
    "# Hiển thị các phần tử trong tuple\n",
    "print(a)\n",
    "\n",
    "# Hiển thị kiểu dữ liệu\n",
    "print(type(a))"
   ]
  },
  {
   "cell_type": "markdown",
   "metadata": {},
   "source": [
    "### Kiểu dữ liệu Range"
   ]
  },
  {
   "cell_type": "code",
   "execution_count": 5,
   "metadata": {},
   "outputs": [
    {
     "name": "stdout",
     "output_type": "stream",
     "text": [
      "range(0, 6)\n",
      "<class 'range'>\n"
     ]
    }
   ],
   "source": [
    "a = range(6)\n",
    "print(a)\n",
    "print(type(a))"
   ]
  },
  {
   "cell_type": "markdown",
   "metadata": {
    "heading_collapsed": true
   },
   "source": [
    "### Kiểu dữ liệu dict"
   ]
  },
  {
   "cell_type": "code",
   "execution_count": 6,
   "metadata": {
    "hidden": true
   },
   "outputs": [
    {
     "name": "stdout",
     "output_type": "stream",
     "text": [
      "{'name': 'John', 'age': 36}\n",
      "<class 'dict'>\n"
     ]
    }
   ],
   "source": [
    "a = {'name':'John','age':36}\n",
    "print(a)\n",
    "print(type(a))"
   ]
  },
  {
   "cell_type": "markdown",
   "metadata": {
    "heading_collapsed": true
   },
   "source": [
    "### Kiểu dữ liệu set"
   ]
  },
  {
   "cell_type": "code",
   "execution_count": 7,
   "metadata": {
    "hidden": true
   },
   "outputs": [
    {
     "name": "stdout",
     "output_type": "stream",
     "text": [
      "{'apple', 'cherry', 'banana'}\n",
      "<class 'set'>\n"
     ]
    }
   ],
   "source": [
    "a = {'apple','banana','cherry'}\n",
    "print(a)\n",
    "print(type(a))"
   ]
  },
  {
   "cell_type": "markdown",
   "metadata": {},
   "source": [
    "### Kiểu dữ liệu bool"
   ]
  },
  {
   "cell_type": "code",
   "execution_count": 8,
   "metadata": {},
   "outputs": [
    {
     "name": "stdout",
     "output_type": "stream",
     "text": [
      "True\n",
      "<class 'bool'>\n"
     ]
    }
   ],
   "source": [
    "a = True   # Đúng\n",
    "b = False  # Sai\n",
    "print(a)\n",
    "print(type(a))"
   ]
  },
  {
   "cell_type": "markdown",
   "metadata": {},
   "source": [
    "### Kết hợp các kiểu dữ liệu đã học\n",
    "- %d: Số nguyên (digit)\n",
    "- %f: Số thực (float)\n",
    "- %s: Chuỗi (string)"
   ]
  },
  {
   "cell_type": "code",
   "execution_count": 9,
   "metadata": {},
   "outputs": [
    {
     "name": "stdout",
     "output_type": "stream",
     "text": [
      "Giá trị kiểu số nguyên: 300\n",
      "Giá trị kiểu số thực: 300.00\n"
     ]
    }
   ],
   "source": [
    "# khai báo biến\n",
    "a = 100\n",
    "b = 200\n",
    "\n",
    "# Thực hiện tính toán và nhận về kết quả\n",
    "kq = a + b\n",
    "\n",
    "# Hiển thị kết quả\n",
    "print('Giá trị kiểu số nguyên %d' %kq)\n",
    "print('Giá trị kiểu số thực %.2f' %kq)"
   ]
  },
  {
   "cell_type": "code",
   "execution_count": 19,
   "metadata": {
    "ExecuteTime": {
     "end_time": "2022-11-09T13:50:00.450649Z",
     "start_time": "2022-11-09T13:50:00.439125Z"
    }
   },
   "outputs": [
    {
     "name": "stdout",
     "output_type": "stream",
     "text": [
      "Nội dung của chúng ta là HelloWorld\n"
     ]
    }
   ],
   "source": [
    "a = 'Hello'\n",
    "b = 'World'\n",
    "kq = a + b\n",
    "print('Nội dung của chúng ta là %s' %kq)"
   ]
  },
  {
   "cell_type": "code",
   "execution_count": 20,
   "metadata": {
    "ExecuteTime": {
     "end_time": "2022-11-09T13:51:58.813502Z",
     "start_time": "2022-11-09T13:51:58.795501Z"
    },
    "scrolled": true
   },
   "outputs": [
    {
     "name": "stdout",
     "output_type": "stream",
     "text": [
      "Giá trị của a là 100.00, giá trị của b là 200.0, giá trị của c là 300.000\n"
     ]
    }
   ],
   "source": [
    "a,b,c = 100,200,300\n",
    "print('Giá trị của a là %.2f, giá trị của b là %.1f, giá trị của c là %.3f' %(a,b,c))"
   ]
  },
  {
   "cell_type": "markdown",
   "metadata": {},
   "source": [
    "## Các cách truyền giá trị dạng chữ vào trong hàm print"
   ]
  },
  {
   "cell_type": "markdown",
   "metadata": {},
   "source": [
    "### Truyền đối số với tuple trong Python"
   ]
  },
  {
   "cell_type": "code",
   "execution_count": 44,
   "metadata": {
    "ExecuteTime": {
     "end_time": "2022-11-09T14:23:17.596831Z",
     "start_time": "2022-11-09T14:23:17.592050Z"
    }
   },
   "outputs": [],
   "source": [
    "hovaten = 'Nguyễn Văn A'\n",
    "diem = 9.5"
   ]
  },
  {
   "cell_type": "code",
   "execution_count": 45,
   "metadata": {
    "ExecuteTime": {
     "end_time": "2022-11-09T14:23:23.371087Z",
     "start_time": "2022-11-09T14:23:23.365091Z"
    },
    "scrolled": true
   },
   "outputs": [
    {
     "name": "stdout",
     "output_type": "stream",
     "text": [
      "Tổng điểm của bạn Nguyễn Văn A là 9.50 điểm\n"
     ]
    }
   ],
   "source": [
    "print('Tổng điểm của bạn %s là %.2f điểm' %(hovaten, diem))"
   ]
  },
  {
   "cell_type": "markdown",
   "metadata": {},
   "source": [
    "### Truyền đối số với Dictionary trong Python"
   ]
  },
  {
   "cell_type": "code",
   "execution_count": 46,
   "metadata": {
    "ExecuteTime": {
     "end_time": "2022-11-09T14:23:25.998633Z",
     "start_time": "2022-11-09T14:23:25.981041Z"
    }
   },
   "outputs": [
    {
     "name": "stdout",
     "output_type": "stream",
     "text": [
      "Tổng điểm của bạn Nguyễn Văn A là 9.50 điểm\n"
     ]
    }
   ],
   "source": [
    "print('Tổng điểm của bạn %(haha)s là %(hihi).2f điểm' %{'haha':hovaten, 'hihi':diem})"
   ]
  },
  {
   "cell_type": "markdown",
   "metadata": {},
   "source": [
    "### Truyển đối số sử dụng kiểu new-style"
   ]
  },
  {
   "cell_type": "code",
   "execution_count": 47,
   "metadata": {
    "ExecuteTime": {
     "end_time": "2022-11-09T14:24:25.447152Z",
     "start_time": "2022-11-09T14:24:25.437789Z"
    }
   },
   "outputs": [
    {
     "name": "stdout",
     "output_type": "stream",
     "text": [
      "Tổng Nguyễn Văn A điểm của 9.5 bạn là \n"
     ]
    }
   ],
   "source": [
    "print('Tổng {} điểm của {} bạn là '.format(hovaten, diem))"
   ]
  },
  {
   "cell_type": "markdown",
   "metadata": {},
   "source": [
    "### Truyền đổi số sử dụng kiểu new-style với số index (lưu ý vị trí đầu tiên có index = 0)"
   ]
  },
  {
   "cell_type": "code",
   "execution_count": 43,
   "metadata": {
    "ExecuteTime": {
     "end_time": "2022-11-09T14:18:26.563512Z",
     "start_time": "2022-11-09T14:18:26.544974Z"
    }
   },
   "outputs": [
    {
     "name": "stdout",
     "output_type": "stream",
     "text": [
      "Tổng điểm của bạn 9.5 là Nguyễn Văn A\n"
     ]
    }
   ],
   "source": [
    "print('Tổng điểm của bạn {1} là {0}'.format(hovaten, diem))"
   ]
  },
  {
   "cell_type": "markdown",
   "metadata": {},
   "source": [
    "### Truyền đối số sử dụng kiểu new-style với tên biến được định nghĩa"
   ]
  },
  {
   "cell_type": "code",
   "execution_count": 22,
   "metadata": {},
   "outputs": [
    {
     "name": "stdout",
     "output_type": "stream",
     "text": [
      "Tổng điểm của bạn Nguyễn Văn B là 8.5\n"
     ]
    }
   ],
   "source": [
    "print('Tổng điểm của bạn {haha} là {hihi}'.format(haha=hovaten, hihi=diem))"
   ]
  },
  {
   "cell_type": "markdown",
   "metadata": {},
   "source": [
    "### Nối chuỗi trong Python"
   ]
  },
  {
   "cell_type": "code",
   "execution_count": 24,
   "metadata": {},
   "outputs": [
    {
     "name": "stdout",
     "output_type": "stream",
     "text": [
      "Điểm của bạn Nguyễn Văn B là 8.5\n"
     ]
    }
   ],
   "source": [
    "print('Điểm của bạn',hovaten,'là', diem)"
   ]
  },
  {
   "cell_type": "markdown",
   "metadata": {},
   "source": [
    "### Nối chuỗi bằng f-style formatting"
   ]
  },
  {
   "cell_type": "code",
   "execution_count": 25,
   "metadata": {},
   "outputs": [
    {
     "name": "stdout",
     "output_type": "stream",
     "text": [
      "Bạn Nguyễn Văn B có điểm là 8.5\n"
     ]
    }
   ],
   "source": [
    "print(f'Bạn {hovaten} có điểm là {diem}')"
   ]
  },
  {
   "cell_type": "markdown",
   "metadata": {},
   "source": [
    "### Nối chuỗi bằng toán tử trong Python"
   ]
  },
  {
   "cell_type": "code",
   "execution_count": 27,
   "metadata": {},
   "outputs": [
    {
     "name": "stdout",
     "output_type": "stream",
     "text": [
      "Điểm của bạnNguyễn Văn B là 8.5\n"
     ]
    }
   ],
   "source": [
    "print('Điểm của bạn'+ hovaten +' là '+ str(diem))"
   ]
  },
  {
   "cell_type": "markdown",
   "metadata": {},
   "source": [
    "## Các cách truyền các giá trị dạng số vào trong hàm print"
   ]
  },
  {
   "cell_type": "markdown",
   "metadata": {},
   "source": [
    "### Nối chuỗi đơn giản bằng toán tử trong Python"
   ]
  },
  {
   "cell_type": "code",
   "execution_count": 29,
   "metadata": {},
   "outputs": [
    {
     "name": "stdout",
     "output_type": "stream",
     "text": [
      "Tổng của 2 số 10 và 20 là 30\n"
     ]
    }
   ],
   "source": [
    "a=10\n",
    "b=20\n",
    "kq=a+b\n",
    "print('Tổng của 2 số '+ str(a) +' và '+ str(b) +' là '+ str(kq))"
   ]
  },
  {
   "cell_type": "markdown",
   "metadata": {},
   "source": [
    "### Nối chuỗi bằng cách tách ra thành các thành phần riêng biệt trong hàm print"
   ]
  },
  {
   "cell_type": "code",
   "execution_count": 32,
   "metadata": {
    "scrolled": true
   },
   "outputs": [
    {
     "name": "stdout",
     "output_type": "stream",
     "text": [
      "Tổng của 2 số 10 và 20 là 30\n"
     ]
    }
   ],
   "source": [
    "print('Tổng của 2 số',a,'và',b,'là',kq)"
   ]
  },
  {
   "cell_type": "markdown",
   "metadata": {},
   "source": [
    "### Sử dụng tuple để in ra giá trị"
   ]
  },
  {
   "cell_type": "code",
   "execution_count": 31,
   "metadata": {},
   "outputs": [
    {
     "name": "stdout",
     "output_type": "stream",
     "text": [
      "Tổng của 2 số 10 và 20 là 30\n"
     ]
    }
   ],
   "source": [
    "print('Tổng của 2 số %d và %d là %d' %(a,b,kq))"
   ]
  },
  {
   "cell_type": "markdown",
   "metadata": {},
   "source": [
    "### Sử dụng f-style formatting để in ra giá trị"
   ]
  },
  {
   "cell_type": "code",
   "execution_count": 33,
   "metadata": {},
   "outputs": [
    {
     "name": "stdout",
     "output_type": "stream",
     "text": [
      "Tổng của 2 số 10 và 20 là 30\n"
     ]
    }
   ],
   "source": [
    "print(f'Tổng của 2 số {a} và {b} là {kq}')"
   ]
  },
  {
   "cell_type": "markdown",
   "metadata": {},
   "source": [
    "### Sử dụng new-style formatting"
   ]
  },
  {
   "cell_type": "code",
   "execution_count": 35,
   "metadata": {},
   "outputs": [
    {
     "name": "stdout",
     "output_type": "stream",
     "text": [
      "Tổng của 2 số 10 và 20 là 30\n"
     ]
    }
   ],
   "source": [
    "print('Tổng của 2 số {} và {} là {}'.format(a,b,kq))"
   ]
  },
  {
   "cell_type": "markdown",
   "metadata": {},
   "source": [
    "### Phân biệt str và repr\n",
    "- str: Hàm str dùng để chuyển đổi và hiển thị định dạng chuỗi (Chỉ giá trị thôi)\n",
    "- repr: Hàm repr dùng để hiển thị đầy đủ thông tin của đối tượng (phù hợp khi lập trình Python OOP)."
   ]
  },
  {
   "cell_type": "code",
   "execution_count": 37,
   "metadata": {},
   "outputs": [
    {
     "name": "stdout",
     "output_type": "stream",
     "text": [
      "Tổng của 2 số 10 và 20 là 30\n"
     ]
    }
   ],
   "source": [
    "print('Tổng của 2 số '+ repr(a) + ' và ' +repr(b)+ ' là '+ repr(kq))"
   ]
  },
  {
   "cell_type": "markdown",
   "metadata": {},
   "source": [
    "Trong trường hợp này thì bạn dùng str và repr đều thu được cùng 1 kết quả"
   ]
  },
  {
   "cell_type": "code",
   "execution_count": 38,
   "metadata": {},
   "outputs": [
    {
     "name": "stdout",
     "output_type": "stream",
     "text": [
      "Tổng của 2 số 10 và 20 là 30\n"
     ]
    }
   ],
   "source": [
    "print('Tổng của 2 số '+ str(a) + ' và ' +str(b)+ ' là '+ str(kq))"
   ]
  },
  {
   "cell_type": "markdown",
   "metadata": {},
   "source": [
    "### Sử dụng %.2f, %d trong hàm print"
   ]
  },
  {
   "cell_type": "code",
   "execution_count": 39,
   "metadata": {},
   "outputs": [
    {
     "name": "stdout",
     "output_type": "stream",
     "text": [
      "Tổng của 2 số 10 và 20.0 là 300.00\n"
     ]
    }
   ],
   "source": [
    "print('Tổng của 2 số %d và %.1f là %.2f' %(a,b,c))"
   ]
  },
  {
   "cell_type": "markdown",
   "metadata": {},
   "source": [
    "## Khai báo biến và kiểm tra kiểu dữ liệu của biến"
   ]
  },
  {
   "cell_type": "code",
   "execution_count": 40,
   "metadata": {},
   "outputs": [
    {
     "name": "stdout",
     "output_type": "stream",
     "text": [
      "Kiểu dữ liệu của biến a là <class 'int'>\n",
      "Kiểu dữ liệu của biến b là <class 'float'>\n",
      "Kiểu dữ liệu của biến c là <class 'str'>\n"
     ]
    }
   ],
   "source": [
    "a=8\n",
    "b=8.5\n",
    "c='ha ha hi hi'\n",
    "print('Kiểu dữ liệu của biến a là', type(a))\n",
    "print('Kiểu dữ liệu của biến b là', type(b))\n",
    "print('Kiểu dữ liệu của biến c là', type(c))"
   ]
  },
  {
   "cell_type": "markdown",
   "metadata": {},
   "source": [
    "## Phạm vi của biến"
   ]
  },
  {
   "cell_type": "markdown",
   "metadata": {},
   "source": [
    "### Làm quen với biến toàn cục và biến cục bộ"
   ]
  },
  {
   "cell_type": "code",
   "execution_count": 1,
   "metadata": {
    "ExecuteTime": {
     "end_time": "2022-11-12T01:19:08.432013Z",
     "start_time": "2022-11-12T01:19:08.203815Z"
    }
   },
   "outputs": [
    {
     "name": "stdout",
     "output_type": "stream",
     "text": [
      "1000\n",
      "Tôi rất muốn học Python\n",
      "1000\n"
     ]
    },
    {
     "ename": "NameError",
     "evalue": "name 'b' is not defined",
     "output_type": "error",
     "traceback": [
      "\u001b[1;31m---------------------------------------------------------------------------\u001b[0m",
      "\u001b[1;31mNameError\u001b[0m                                 Traceback (most recent call last)",
      "\u001b[1;32m~\\AppData\\Local\\Temp\\ipykernel_15636\\3445791480.py\u001b[0m in \u001b[0;36m<module>\u001b[1;34m\u001b[0m\n\u001b[0;32m     13\u001b[0m \u001b[1;31m# Thử hiển thị lại giá trị của a\u001b[0m\u001b[1;33m\u001b[0m\u001b[1;33m\u001b[0m\u001b[0m\n\u001b[0;32m     14\u001b[0m \u001b[0mprint\u001b[0m\u001b[1;33m(\u001b[0m\u001b[0ma\u001b[0m\u001b[1;33m)\u001b[0m\u001b[1;33m\u001b[0m\u001b[1;33m\u001b[0m\u001b[0m\n\u001b[1;32m---> 15\u001b[1;33m \u001b[0mprint\u001b[0m\u001b[1;33m(\u001b[0m\u001b[0mb\u001b[0m\u001b[1;33m)\u001b[0m\u001b[1;33m\u001b[0m\u001b[1;33m\u001b[0m\u001b[0m\n\u001b[0m",
      "\u001b[1;31mNameError\u001b[0m: name 'b' is not defined"
     ]
    }
   ],
   "source": [
    "a=1000\n",
    "print(a)\n",
    "\n",
    "# Thử định nghĩa ra 1 hàm\n",
    "def function_demo():    \n",
    "    a = 'Tôi rất muốn học Python'   #local variable\n",
    "    b = 200\n",
    "    print(a)\n",
    "\n",
    "# Thử gọi hàm đã định nghĩa ở trên\n",
    "function_demo()\n",
    "\n",
    "# Thử hiển thị lại giá trị của a\n",
    "print(a)\n",
    "print(b)"
   ]
  },
  {
   "cell_type": "code",
   "execution_count": 6,
   "metadata": {
    "ExecuteTime": {
     "end_time": "2022-11-12T01:36:46.362460Z",
     "start_time": "2022-11-12T01:36:46.356459Z"
    },
    "scrolled": true
   },
   "outputs": [
    {
     "name": "stdout",
     "output_type": "stream",
     "text": [
      "1000\n",
      "học python vui ghê :D\n",
      "Minh ten la:  ABC\n",
      "1000\n"
     ]
    }
   ],
   "source": [
    "a=1000\n",
    "print(a)\n",
    "\n",
    "# Thử định nghĩa ra 1 hàm\n",
    "def function_demo():\n",
    "    global a    #global variable\n",
    "    a = 2000\n",
    "    b = 'Tôi rất muốn học Python'   \n",
    "    print(f'{b} và {a}')\n",
    "    \n",
    "def hahahihi():\n",
    "    print('học python vui ghê :D')\n",
    "\n",
    "def ban_ten_gi(name):\n",
    "    print('Minh ten la: ', name)\n",
    "    \n",
    "# Thử gọi hàm đã định nghĩa ở trên\n",
    "# function_demo()\n",
    "hahahihi()\n",
    "ban_ten_gi('ABC')\n",
    "\n",
    "\n",
    "# Thử hiển thị lại giá trị của a\n",
    "print(a)"
   ]
  },
  {
   "cell_type": "markdown",
   "metadata": {},
   "source": [
    "## Cách định nghĩa và gọi 1 hàm trong Python?"
   ]
  },
  {
   "cell_type": "markdown",
   "metadata": {},
   "source": [
    "### Sử dụng từ khóa \"def\" để định nghĩa hàm (function)"
   ]
  },
  {
   "cell_type": "markdown",
   "metadata": {},
   "source": [
    "### Lỗi khi định nghĩa hàm"
   ]
  },
  {
   "cell_type": "markdown",
   "metadata": {},
   "source": [
    "- Ví dụ dưới đây cho thấy lỗi khi bạn định nghĩa phần xử lý của hàm không đúng.\n",
    "- Trong Python sử dụng \"indent\"(lùi vào trong) để thể hiện khối lệnh, không giống như những ngôn ngữ khác sử dụng {} hoặc begin-end để tạo khối lệnh.\n",
    "- Hãy lưu ý đến điều này khi định nghĩa hàm trong Python."
   ]
  },
  {
   "cell_type": "markdown",
   "metadata": {
    "heading_collapsed": true
   },
   "source": [
    "### Khắc phục lỗi bằng cách tuân thủ quy tắc \"Indent\""
   ]
  },
  {
   "cell_type": "markdown",
   "metadata": {},
   "source": [
    "## Bài tập thực hành Python"
   ]
  },
  {
   "cell_type": "markdown",
   "metadata": {},
   "source": [
    "### Practice 01"
   ]
  },
  {
   "cell_type": "code",
   "execution_count": 7,
   "metadata": {
    "ExecuteTime": {
     "end_time": "2022-11-12T01:41:51.389783Z",
     "start_time": "2022-11-12T01:41:46.007683Z"
    }
   },
   "outputs": [
    {
     "name": "stdout",
     "output_type": "stream",
     "text": [
      "input a10\n",
      "input b20\n",
      "The sum of 10 and 20 is : 30\n"
     ]
    }
   ],
   "source": [
    "a=int(input('input a'))\n",
    "b=int(input('input b'))\n",
    "kq=a+b\n",
    "print(f'The sum of {a} and {b} is : {kq}')"
   ]
  },
  {
   "cell_type": "markdown",
   "metadata": {},
   "source": [
    "### Practice 02"
   ]
  },
  {
   "cell_type": "code",
   "execution_count": 8,
   "metadata": {
    "ExecuteTime": {
     "end_time": "2022-11-12T01:57:57.290223Z",
     "start_time": "2022-11-12T01:57:53.188673Z"
    }
   },
   "outputs": [
    {
     "name": "stdout",
     "output_type": "stream",
     "text": [
      "input a100\n",
      "input b200\n",
      "Maximum = 200\n"
     ]
    }
   ],
   "source": [
    "# Viết chương trình Python để tìm giá trị lớn nhất giữa hai số bằng cách sử dụng if else. \n",
    "# Chương trình Python để nhập hai số từ người dùng và tìm số lớn nhất giữa hai số bằng cách sử dụng if else. \n",
    "# Sử dụng từ khóa def để định nghĩa hàm có tên là \"find_max\".\n",
    "\n",
    "# Example\n",
    "# Input\n",
    "# Input num1: 10\n",
    "# Input num2: 20\n",
    "# Output\n",
    "# Maximum = 20\n",
    "def tim_gia_tri_lon_nhat_2_so(haha,hihi):\n",
    "    if haha > hihi:\n",
    "        return haha\n",
    "    else:\n",
    "        return hihi\n",
    "    \n",
    "    #return haha if haha > hihi else hihi\n",
    "\n",
    "a = int(input('input a'))\n",
    "b = int(input('input b'))\n",
    "print(f'Maximum = {tim_gia_tri_lon_nhat_2_so(a,b)}')"
   ]
  },
  {
   "cell_type": "markdown",
   "metadata": {},
   "source": [
    "### Practice 03"
   ]
  },
  {
   "cell_type": "code",
   "execution_count": 9,
   "metadata": {
    "ExecuteTime": {
     "end_time": "2022-11-12T02:05:10.797403Z",
     "start_time": "2022-11-12T02:05:10.776344Z"
    }
   },
   "outputs": [
    {
     "name": "stdout",
     "output_type": "stream",
     "text": [
      "Maximum = 30\n"
     ]
    }
   ],
   "source": [
    "# Viết một chương trình Python để tìm số lớn nhất giữa 3 số bằng if else.\n",
    "# Sử dụng từ khóa def để định nghĩa hàm có tên là \"find_max\". \n",
    "\n",
    "# Example\n",
    "# Input\n",
    "# Input num1: 10\n",
    "# Input num2: 20\n",
    "# Input num3: 15\n",
    "\n",
    "# Output\n",
    "# Maximum is: 20\n",
    "def find_max(i,j,k):\n",
    "    return i if ((i>j) and (i>k)) else j if((j>i) and (j>k)) else k\n",
    "\n",
    "print(f'Maximum = {find_max(10,20,30)}')"
   ]
  },
  {
   "cell_type": "markdown",
   "metadata": {},
   "source": [
    "### Practice 04"
   ]
  },
  {
   "cell_type": "code",
   "execution_count": 12,
   "metadata": {
    "ExecuteTime": {
     "end_time": "2022-11-12T02:10:34.336754Z",
     "start_time": "2022-11-12T02:10:34.320476Z"
    }
   },
   "outputs": [
    {
     "name": "stdout",
     "output_type": "stream",
     "text": [
      "Bằng 0\n"
     ]
    }
   ],
   "source": [
    "# Viết một chương trình Python để kiểm tra dương, âm hoặc 0 bằng cách sử dụng if else.\n",
    "# Sử dụng từ khóa def để định nghĩa hàm có tên là \"check_number\".\n",
    "\n",
    "# Example\n",
    "# Input\n",
    "# Input number: 23\n",
    "\n",
    "# Output\n",
    "# 23 is positive"
   ]
  },
  {
   "cell_type": "markdown",
   "metadata": {},
   "source": [
    "### Practice 05"
   ]
  },
  {
   "cell_type": "code",
   "execution_count": 13,
   "metadata": {
    "ExecuteTime": {
     "end_time": "2022-11-12T02:55:36.691244Z",
     "start_time": "2022-11-12T02:55:36.681077Z"
    }
   },
   "outputs": [
    {
     "name": "stdout",
     "output_type": "stream",
     "text": [
      "Kết quả là: chia het roi ban oi\n"
     ]
    }
   ],
   "source": [
    "# Viết một chương trình Python để kiểm tra xem một số có chia hết cho 5 và 11 hoặc không sử dụng if else.\n",
    "\n",
    "# Example\n",
    "# Input\n",
    "# Input number: 55"
   ]
  },
  {
   "cell_type": "markdown",
   "metadata": {},
   "source": [
    "### Bài tập thực hành"
   ]
  },
  {
   "cell_type": "markdown",
   "metadata": {},
   "source": [
    "- Bạn hãy viết 1 chương trình đưa ra kết quả đánh giá từ 1 giá trị đo nhiệt độ nào đó.\n",
    "- Hãy định  nghĩa thành hàm (def) để sử dụng cho chương trình này."
   ]
  },
  {
   "cell_type": "code",
   "execution_count": 15,
   "metadata": {
    "ExecuteTime": {
     "end_time": "2022-11-12T03:13:45.796109Z",
     "start_time": "2022-11-12T03:13:41.401606Z"
    }
   },
   "outputs": [
    {
     "name": "stdout",
     "output_type": "stream",
     "text": [
      "Mời nhập cho mình giá trị bạn ơi150\n",
      "Kết quả là: Cháy\n"
     ]
    }
   ],
   "source": [
    "# định nghĩa hàm xử lý"
   ]
  },
  {
   "cell_type": "code",
   "execution_count": 19,
   "metadata": {
    "ExecuteTime": {
     "end_time": "2022-11-12T03:23:22.417348Z",
     "start_time": "2022-11-12T03:23:22.407346Z"
    }
   },
   "outputs": [
    {
     "name": "stdout",
     "output_type": "stream",
     "text": [
      "Kết quả laà: 0\n",
      "Kết quả laà: 40\n"
     ]
    }
   ],
   "source": []
  },
  {
   "cell_type": "markdown",
   "metadata": {},
   "source": [
    "### Practice 06"
   ]
  },
  {
   "cell_type": "code",
   "execution_count": 21,
   "metadata": {
    "ExecuteTime": {
     "end_time": "2022-11-12T03:27:21.852370Z",
     "start_time": "2022-11-12T03:27:21.838240Z"
    }
   },
   "outputs": [
    {
     "name": "stdout",
     "output_type": "stream",
     "text": [
      "Kết quả laà: Lẻ rồi bạn ơi\n"
     ]
    }
   ],
   "source": [
    "# Viết chương trình Python để kiểm tra xem một số là số chẵn hay lẻ bằng cách sử dụng if else.\n",
    "\n",
    "# Example\n",
    "# Input\n",
    "# Input number: 10\n",
    "\n",
    "# Output\n",
    "# 10 is even number\n"
   ]
  },
  {
   "cell_type": "markdown",
   "metadata": {},
   "source": [
    "### Practice 07"
   ]
  },
  {
   "cell_type": "code",
   "execution_count": 23,
   "metadata": {
    "ExecuteTime": {
     "end_time": "2022-11-12T03:35:15.680375Z",
     "start_time": "2022-11-12T03:35:15.673638Z"
    }
   },
   "outputs": [
    {
     "name": "stdout",
     "output_type": "stream",
     "text": [
      "The year is normal\n"
     ]
    }
   ],
   "source": [
    "# Viết một chương trình python để kiểm tra năm nhuận bằng cách sử dụng if else.\n",
    "# Cách kiểm tra xem một năm nhất định có phải là năm nhuận hay không trong lập trình python.\n",
    "# Chương trình Python để nhập năm từ người dùng và kiểm tra xem năm đã cho có phải là năm nhuận hay không \n",
    "# sử dụng phát biểu If Else.\n",
    "# Sử dụng từ khóa def để định nghĩa hàm có tên là \"check_leap_year\".\n",
    "\n",
    "# Example\n",
    "# Input year: 2020\n",
    "# Output: 2020 is leap year.\n",
    "# If year is exactly divisible by 4  and year is not divisible by 100\n",
    "# or year is exactly divisible by 400 then\n",
    "# Return:\n",
    "# TRUE: the year is leap year.\n",
    "# FALSE: year is normal year\n"
   ]
  },
  {
   "cell_type": "markdown",
   "metadata": {},
   "source": [
    "### Practice 08"
   ]
  },
  {
   "cell_type": "code",
   "execution_count": 16,
   "metadata": {},
   "outputs": [
    {
     "name": "stdout",
     "output_type": "stream",
     "text": [
      "Input month:2\n",
      "Input year:2020\n",
      "It contains 29 days.\n"
     ]
    }
   ],
   "source": [
    "# Viết chương trình python để nhập số tháng từ (1-12), chương trình sẽ hiển thị số ngày của tháng đó.\n",
    "# Có thể sử dụng thêm 1 số hàm đã xây dựng.\n",
    "\n",
    "# Example\n",
    "# Input\n",
    "# Enter month number: 1\n",
    "\n",
    "     "
   ]
  },
  {
   "cell_type": "markdown",
   "metadata": {},
   "source": [
    "### Practice 09"
   ]
  },
  {
   "cell_type": "code",
   "execution_count": 21,
   "metadata": {},
   "outputs": [
    {
     "name": "stdout",
     "output_type": "stream",
     "text": [
      "Input month:8\n",
      "It contains 31 days.\n"
     ]
    }
   ],
   "source": [
    "# Viết chương trình python để nhập số tháng trong khoảng (1-12)\n",
    "# và in số ngày trong tháng bằng cách sử dụng if else trong lập trình python. \n",
    "# Hãy logic để tìm số ngày trong tháng trong chương trình python.\n",
    "# Example:\n",
    "# Enter month number:2\n",
    "# Enter year number:2020\n",
    "# Output: The month: 2 and year: 2020 has 29 days.\n"
   ]
  },
  {
   "cell_type": "markdown",
   "metadata": {},
   "source": [
    "### Practice 10"
   ]
  },
  {
   "cell_type": "code",
   "execution_count": 33,
   "metadata": {
    "ExecuteTime": {
     "end_time": "2022-11-12T03:52:04.217029Z",
     "start_time": "2022-11-12T03:52:04.194443Z"
    }
   },
   "outputs": [
    {
     "name": "stdout",
     "output_type": "stream",
     "text": [
      "Có 31 ngày bạn ơi\n"
     ]
    }
   ],
   "source": [
    "# Viết chương trình để tìm ra số ngày theo Tháng | Năm.\n",
    "# Có thể xây dựng các hàm để giải quyết nghiệp vụ.\n",
    "# Example:\n",
    "# Input a month: 2\n",
    "# Input a year: 2020\n",
    "# Output: It contains 29 days.\n",
    "\n",
    "# TRUE: the year is leap year.\n",
    "# FALSE: year is normal year\n",
    "\n",
    "\n",
    "\n",
    "# ktra_thang(14)\n",
    "# ktra_nam(10000)\n"
   ]
  },
  {
   "cell_type": "markdown",
   "metadata": {},
   "source": [
    "### Practice 11"
   ]
  },
  {
   "cell_type": "code",
   "execution_count": 22,
   "metadata": {},
   "outputs": [
    {
     "name": "stdout",
     "output_type": "stream",
     "text": [
      "Enter 1 angles of triangle?60\n",
      "Enter 1 angles of triangle?30\n",
      "Enter 1 angles of triangle?90\n",
      "Triangle is valid.\n"
     ]
    }
   ],
   "source": [
    "# Viết chương trình python để kiểm tra xem một tam giác có hợp lệ hay không? Các góc được người dùng nhập vào.\n",
    "# Example\n",
    "# Input\n",
    "# Input first angle: 60\n",
    "# Input second angle: 30\n",
    "# Input third angle: 90\n",
    "\n",
    "# Output\n",
    "# The triangle is valid\n"
   ]
  },
  {
   "cell_type": "markdown",
   "metadata": {},
   "source": [
    "### Practice 12"
   ]
  },
  {
   "cell_type": "code",
   "execution_count": 23,
   "metadata": {},
   "outputs": [
    {
     "name": "stdout",
     "output_type": "stream",
     "text": [
      "Input first side:30\n",
      "Input second side:30\n",
      "Input third side:30\n",
      "tam giác đều\n"
     ]
    }
   ],
   "source": [
    "# Viết chương trình python để nhập các cạnh của tam giác và kiểm tra xem tam giác có phải là\n",
    "# tam giác đều, vô hướng hoặc tam giác cân bằng cách sử dụng if else.\n",
    "# Logic để phân loại tam giác thành tam giác đều, vô hướng hoặc cân trong chương trình python.\n",
    "# Example\n",
    "# Input\n",
    "# Input first side: 30\n",
    "# Input second side: 30\n",
    "# Input third side: 30\n",
    "\n",
    "# Output\n",
    "# Triangle is equilateral triangle\n"
   ]
  },
  {
   "cell_type": "markdown",
   "metadata": {},
   "source": [
    "### Practice 13"
   ]
  },
  {
   "cell_type": "code",
   "execution_count": 63,
   "metadata": {},
   "outputs": [
    {
     "name": "stdout",
     "output_type": "stream",
     "text": [
      "Grade A - Percentage >= 95.0%\n"
     ]
    }
   ],
   "source": [
    "# Viết chương trình python để nhập điểm của 5 môn Vật lý, Hóa học, Sinh học,\n",
    "# Toán học và khoa học, tính tỷ lệ phần trăm và điểm theo các điều kiện đã cho:\n",
    "# If percentage >= 90% : Grade A\n",
    "# If percentage >= 80% : Grade B\n",
    "# If percentage >= 70% : Grade C\n",
    "# If percentage >= 60% : Grade D\n",
    "# If percentage >= 40% : Grade E\n",
    "# If percentage < 40% : Grade F\n",
    "# Example\n",
    "# Input\n",
    "# Input marks of five subjects: 95\n",
    "# 95\n",
    "# 97\n",
    "# 98\n",
    "# 90\n",
    "# Output\n",
    "\n",
    "# Percentage = 95.00 \n",
    "# Grade A\n"
   ]
  },
  {
   "cell_type": "markdown",
   "metadata": {},
   "source": [
    "### Practice 14"
   ]
  },
  {
   "cell_type": "code",
   "execution_count": 25,
   "metadata": {},
   "outputs": [
    {
     "name": "stdout",
     "output_type": "stream",
     "text": [
      "Input number:22000\n",
      "49500.0\n"
     ]
    }
   ],
   "source": [
    "# Chương trình Python để nhập lương cơ bản và tính tổng lương của một nhân viên. Viết chương trình python để nhập lương cơ bản của nhân viên và tính tổng lương theo điều kiện cho trước.\n",
    "# Mức lương cơ bản <= 10000: HRA = 20%, DA = 80%\n",
    "# Mức lương cơ bản từ 10001 đến 20000: HRA = 25%, DA = 90%\n",
    "# Lương cơ bản> = 20001: HRA = 30%, DA = 95%\n",
    "# Cách tính tổng lương của một nhân viên bằng if else trong lập trình python.\n",
    "# Chương trình tính tổng lương của một nhân viên sử dụng if else trong chương trình python.\n",
    "# Logic để tìm tổng lương của nhân viên trong chương trình python.\n",
    "# Example:\n",
    "# Input basic salary of an employee: 22000\n",
    "# Output:\n",
    "# Gross salary = 49500.0\n",
    "\n"
   ]
  },
  {
   "cell_type": "markdown",
   "metadata": {},
   "source": [
    "### Practice 15"
   ]
  },
  {
   "cell_type": "code",
   "execution_count": 27,
   "metadata": {},
   "outputs": [
    {
     "name": "stdout",
     "output_type": "stream",
     "text": [
      "Input a character:a\n",
      "a is alphabet\n"
     ]
    }
   ],
   "source": [
    "# Viết chương trình python để nhập một ký tự từ người dùng và kiểm tra xem ký tự đã cho\n",
    "# ký tự là bảng chữ cái hoặc không. Làm thế nào để kiểm tra xem một ký tự\n",
    "# có phải là bảng chữ cái hay không trong lập trình python. Logic để kiểm tra xem một ký tự có phải là bảng \n",
    "# chữ cái hay không trong chương trình python.\n",
    "\n",
    "# Example\n",
    "# Input\n",
    "# Input character: a\n",
    "\n",
    "# Output\n",
    "# 'a' is alphabet\n"
   ]
  },
  {
   "cell_type": "markdown",
   "metadata": {},
   "source": [
    "### Practice 16"
   ]
  },
  {
   "cell_type": "code",
   "execution_count": 29,
   "metadata": {},
   "outputs": [
    {
     "name": "stdout",
     "output_type": "stream",
     "text": [
      "Input the radius of a sphere:6\n",
      "The volume of a sphere is : 904.32\n"
     ]
    }
   ],
   "source": [
    "# Viết chương trình bằng Python để tính thể tích của một khối cầu.\n",
    "# v=(4 x 3.14 x radius x radius x radius)/3\n",
    "# Sample Output:\n",
    "# Calculate the volume of a sphere :\n",
    "# ----------------------------------\n",
    "# Input the radius of a sphere : 6\n",
    "# The volume of a sphere is : 904.32\n"
   ]
  },
  {
   "cell_type": "markdown",
   "metadata": {},
   "source": [
    "### Practice 17"
   ]
  },
  {
   "cell_type": "code",
   "execution_count": 31,
   "metadata": {},
   "outputs": [
    {
     "name": "stdout",
     "output_type": "stream",
     "text": [
      "Input the radius(1/2 of diameter) of a circle :5\n",
      "The area of the circle is : 78.5398\n",
      "The circumference of the circle is : 31.4159\n"
     ]
    }
   ],
   "source": [
    "# Viết chương trình bằng python để tìm diện tích và chu vi hình tròn.\n",
    "# Sample Output:\n",
    "# Find the area and circumference of any circle :\n",
    "# ------------------------------------------------\n",
    "# Input the radius(1/2 of diameter) of a circle : 5\n",
    "# The area of the circle is : 78.5397\n",
    "# The circumference of the circle is : 31.4159\n"
   ]
  },
  {
   "cell_type": "markdown",
   "metadata": {},
   "source": [
    "### Practice 18"
   ]
  },
  {
   "cell_type": "code",
   "execution_count": 32,
   "metadata": {},
   "outputs": [
    {
     "name": "stdout",
     "output_type": "stream",
     "text": [
      "Input the 1st angle of the triangle :30\n",
      "Input the 1st angle of the triangle :60\n",
      "The 3rd of the triangle is : 90\n"
     ]
    }
   ],
   "source": [
    "# Viết chương trình bằng python để tìm góc thứ ba của tam giác.\n",
    "# Sample Output:\n",
    "# Find the third angle of a triangle :\n",
    "# -----------------------------------------\n",
    "# Input the 1st angle of the triangle : 30\n",
    "# Input the 2nd angle of the triangle : 60\n",
    "# The 3rd of the triangle is : 90\n"
   ]
  },
  {
   "cell_type": "markdown",
   "metadata": {},
   "source": [
    "### Practice 19"
   ]
  },
  {
   "cell_type": "code",
   "execution_count": 33,
   "metadata": {},
   "outputs": [
    {
     "name": "stdout",
     "output_type": "stream",
     "text": [
      "Input a number :8\n",
      "Number is POSITIVE\n"
     ]
    }
   ],
   "source": [
    "# Viết chương trình bằng python để kiểm tra xem một số là số dương, số âm hay số 0.\n",
    "# Sample Output:\n",
    "# Check whether a number is positive, negative or zero :\n",
    "# ------------------------------------------------------\n",
    "# Input a number : 8\n",
    "\n",
    "    "
   ]
  },
  {
   "cell_type": "markdown",
   "metadata": {},
   "source": [
    "Đã hoàn thành xong nhiệm vụ rồi :D"
   ]
  }
 ],
 "metadata": {
  "hide_input": false,
  "kernelspec": {
   "display_name": "Python 3 (ipykernel)",
   "language": "python",
   "name": "python3"
  },
  "language_info": {
   "codemirror_mode": {
    "name": "ipython",
    "version": 3
   },
   "file_extension": ".py",
   "mimetype": "text/x-python",
   "name": "python",
   "nbconvert_exporter": "python",
   "pygments_lexer": "ipython3",
   "version": "3.9.13"
  },
  "latex_envs": {
   "LaTeX_envs_menu_present": true,
   "autoclose": false,
   "autocomplete": true,
   "bibliofile": "biblio.bib",
   "cite_by": "apalike",
   "current_citInitial": 1,
   "eqLabelWithNumbers": true,
   "eqNumInitial": 1,
   "hotkeys": {
    "equation": "Ctrl-E",
    "itemize": "Ctrl-I"
   },
   "labels_anchors": false,
   "latex_user_defs": false,
   "report_style_numbering": false,
   "user_envs_cfg": false
  },
  "nbTranslate": {
   "displayLangs": [
    "*"
   ],
   "hotkey": "alt-t",
   "langInMainMenu": true,
   "sourceLang": "en",
   "targetLang": "fr",
   "useGoogleTranslate": true
  },
  "toc": {
   "base_numbering": 1,
   "nav_menu": {
    "height": "625px",
    "width": "670px"
   },
   "number_sections": true,
   "sideBar": true,
   "skip_h1_title": false,
   "title_cell": "Table of Contents",
   "title_sidebar": "Contents",
   "toc_cell": false,
   "toc_position": {
    "height": "calc(100% - 180px)",
    "left": "10px",
    "top": "150px",
    "width": "288.188px"
   },
   "toc_section_display": true,
   "toc_window_display": false
  },
  "varInspector": {
   "cols": {
    "lenName": 16,
    "lenType": 16,
    "lenVar": 40
   },
   "kernels_config": {
    "python": {
     "delete_cmd_postfix": "",
     "delete_cmd_prefix": "del ",
     "library": "var_list.py",
     "varRefreshCmd": "print(var_dic_list())"
    },
    "r": {
     "delete_cmd_postfix": ") ",
     "delete_cmd_prefix": "rm(",
     "library": "var_list.r",
     "varRefreshCmd": "cat(var_dic_list()) "
    }
   },
   "types_to_exclude": [
    "module",
    "function",
    "builtin_function_or_method",
    "instance",
    "_Feature"
   ],
   "window_display": false
  }
 },
 "nbformat": 4,
 "nbformat_minor": 4
}
