{
 "cells": [
  {
   "cell_type": "markdown",
   "metadata": {},
   "source": [
    "# Kiến thức Python Cơ Bản - Phần 02"
   ]
  },
  {
   "cell_type": "markdown",
   "metadata": {},
   "source": [
    "## Kiến thức vòng lặp Python While Loops"
   ]
  },
  {
   "cell_type": "markdown",
   "metadata": {},
   "source": [
    "- Python có 2 cấu trúc vòng lặp. Gồm:\n",
    "    - Vòng lặp while.\n",
    "    - Vòng lặp for."
   ]
  },
  {
   "cell_type": "markdown",
   "metadata": {},
   "source": [
    "### Vòng lặp while"
   ]
  },
  {
   "cell_type": "markdown",
   "metadata": {},
   "source": [
    "- Với vòng lặp while, chúng ta có thể thực hiện một tập hợp các câu lệnh miễn là một điều kiện là đúng."
   ]
  },
  {
   "cell_type": "code",
   "execution_count": 2,
   "metadata": {},
   "outputs": [
    {
     "name": "stdout",
     "output_type": "stream",
     "text": [
      "1\n",
      "2\n",
      "3\n",
      "4\n",
      "5\n"
     ]
    }
   ],
   "source": [
    "i=1\n",
    "while i<6:\n",
    "    print(i)\n",
    "    i+=1  #i=i+1"
   ]
  },
  {
   "cell_type": "markdown",
   "metadata": {},
   "source": [
    "- Lưu ý: hãy nhớ tăng i, nếu không vòng lặp sẽ tiếp tục mãi mãi.\n",
    "- Vòng lặp while yêu cầu các biến có liên quan phải sẵn sàng, trong ví dụ này, \n",
    "- chúng ta cần xác định một biến lập chỉ mục, i, mà chúng ta đặt thành 1."
   ]
  },
  {
   "cell_type": "markdown",
   "metadata": {},
   "source": [
    "Giờ ta sẽ khai báo 2 biến a và b sau đó tính tổng của nó nhé."
   ]
  },
  {
   "cell_type": "markdown",
   "metadata": {},
   "source": [
    "### Sử dụng phát biểu break với vòng lặp"
   ]
  },
  {
   "cell_type": "markdown",
   "metadata": {},
   "source": [
    "Với câu lệnh break, chúng ta có thể dừng vòng lặp ngay cả khi điều kiện while là đúng:"
   ]
  },
  {
   "cell_type": "code",
   "execution_count": 3,
   "metadata": {},
   "outputs": [
    {
     "name": "stdout",
     "output_type": "stream",
     "text": [
      "1\n",
      "2\n",
      "3\n"
     ]
    }
   ],
   "source": [
    "i=1\n",
    "while i<6:\n",
    "    print(i)\n",
    "    if i==3:\n",
    "        break\n",
    "    i+=1"
   ]
  },
  {
   "cell_type": "markdown",
   "metadata": {},
   "source": [
    "### Sử dụng phát biểu continue với vòng lặp"
   ]
  },
  {
   "cell_type": "markdown",
   "metadata": {},
   "source": [
    "- Với câu lệnh continue, chúng ta có thể dừng lần lặp hiện tại và tiếp tục với phần tiếp theo:\n",
    "- Ví dụ: Thực hiện 1 lần lặp mới khi i = 3."
   ]
  },
  {
   "cell_type": "code",
   "execution_count": 4,
   "metadata": {},
   "outputs": [
    {
     "name": "stdout",
     "output_type": "stream",
     "text": [
      "1\n",
      "2\n",
      "4\n",
      "5\n",
      "6\n"
     ]
    }
   ],
   "source": [
    "i=0\n",
    "while i<6:\n",
    "    i+=1\n",
    "    if i==3:\n",
    "        continue\n",
    "    print(i)"
   ]
  },
  {
   "cell_type": "markdown",
   "metadata": {},
   "source": [
    "### Sử dụng phát biểu else trong vòng lặp"
   ]
  },
  {
   "cell_type": "markdown",
   "metadata": {},
   "source": [
    "- Với câu lệnh else, chúng ta có thể chạy một khối mã một lần khi điều kiện không còn đúng nữa:"
   ]
  },
  {
   "cell_type": "code",
   "execution_count": 6,
   "metadata": {},
   "outputs": [
    {
     "name": "stdout",
     "output_type": "stream",
     "text": [
      "1\n",
      "2\n",
      "3\n",
      "4\n",
      "5\n",
      "Giá trị i không nhỏ hơn 6 nữa\n"
     ]
    }
   ],
   "source": [
    "i=1\n",
    "while i<6:\n",
    "    print(i)\n",
    "    i+=1\n",
    "else:\n",
    "    print('Giá trị i không nhỏ hơn 6 nữa')"
   ]
  },
  {
   "cell_type": "markdown",
   "metadata": {},
   "source": [
    "## Kiến thức vòng lặp Python For Loops"
   ]
  },
  {
   "cell_type": "markdown",
   "metadata": {},
   "source": [
    "- Vòng lặp for được sử dụng để lặp qua một chuỗi (đó là một danh sách, một bộ giá trị, một từ điển, một tập hợp hoặc một chuỗi).\n",
    "\n",
    "- Từ khóa này ít giống với từ khóa for trong các ngôn ngữ lập trình khác và hoạt động giống như một phương thức trình vòng lặp như được tìm thấy trong các ngôn ngữ lập trình hướng đối tượng khác.\n",
    "\n",
    "- Với vòng lặp for, chúng ta có thể thực hiện một tập hợp các câu lệnh, một lần cho mỗi mục trong danh sách, bộ tuple, tập hợp, v.v."
   ]
  },
  {
   "cell_type": "code",
   "execution_count": 7,
   "metadata": {},
   "outputs": [
    {
     "name": "stdout",
     "output_type": "stream",
     "text": [
      "táo\n",
      "chuối\n",
      "cam\n"
     ]
    }
   ],
   "source": [
    "# Khai báo 1 danh sách\n",
    "danh_sach = ['táo','chuối','cam']\n",
    "\n",
    "# sử dụng vòng lặp for để duyệt qua từng phần tử trong danh sách\n",
    "for item in danh_sach:\n",
    "    print(item)"
   ]
  },
  {
   "cell_type": "markdown",
   "metadata": {},
   "source": [
    "### Sử dụng vòng lặp for trên String"
   ]
  },
  {
   "cell_type": "markdown",
   "metadata": {},
   "source": [
    "- Lặp qua từng chữ cái trong từ \"chuối\":"
   ]
  },
  {
   "cell_type": "code",
   "execution_count": 8,
   "metadata": {},
   "outputs": [
    {
     "name": "stdout",
     "output_type": "stream",
     "text": [
      "c\n",
      "h\n",
      "u\n",
      "ố\n",
      "i\n"
     ]
    }
   ],
   "source": [
    "giatri = 'chuối'\n",
    "for item in giatri:\n",
    "    print(item)"
   ]
  },
  {
   "cell_type": "markdown",
   "metadata": {},
   "source": [
    "### Sử dụng phát biểu break trong vòng lặp for"
   ]
  },
  {
   "cell_type": "markdown",
   "metadata": {},
   "source": [
    "- Với câu lệnh break, chúng ta có thể dừng vòng lặp trước khi nó lặp qua tất cả các mục:\n",
    "- Thoát khỏi vòng lặp khi x là \"chuối\":"
   ]
  },
  {
   "cell_type": "code",
   "execution_count": 9,
   "metadata": {},
   "outputs": [
    {
     "name": "stdout",
     "output_type": "stream",
     "text": [
      "táo\n",
      "chuối\n"
     ]
    }
   ],
   "source": [
    "for item in danh_sach:\n",
    "    print(item)\n",
    "    if item=='chuối':\n",
    "        break    "
   ]
  },
  {
   "cell_type": "markdown",
   "metadata": {},
   "source": [
    "- Thoát khỏi vòng lặp khi x là \"chuối\", nhưng lần này break xuất hiện trước bản in:"
   ]
  },
  {
   "cell_type": "code",
   "execution_count": 10,
   "metadata": {},
   "outputs": [
    {
     "name": "stdout",
     "output_type": "stream",
     "text": [
      "táo\n"
     ]
    }
   ],
   "source": [
    "for item in danh_sach:    \n",
    "    if item=='chuối':\n",
    "        break \n",
    "    print(item)"
   ]
  },
  {
   "cell_type": "markdown",
   "metadata": {},
   "source": [
    "### Sử dụng phát biểu continue trong vòng lặp for"
   ]
  },
  {
   "cell_type": "markdown",
   "metadata": {},
   "source": [
    "Với câu lệnh continue, chúng ta có thể dừng lần lặp hiện tại của vòng lặp và tiếp tục với phần tiếp theo:"
   ]
  },
  {
   "cell_type": "code",
   "execution_count": 11,
   "metadata": {},
   "outputs": [
    {
     "name": "stdout",
     "output_type": "stream",
     "text": [
      "táo\n",
      "cam\n"
     ]
    }
   ],
   "source": [
    "for item in danh_sach:\n",
    "    if item=='chuối':\n",
    "        continue\n",
    "    print(item)    "
   ]
  },
  {
   "cell_type": "markdown",
   "metadata": {},
   "source": [
    "### Sử dụng hàm range() trong vòng lặp for"
   ]
  },
  {
   "cell_type": "markdown",
   "metadata": {},
   "source": [
    "- Để lặp lại một bộ mã một số lần được chỉ định, chúng ta có thể sử dụng hàm range().\n",
    "- Hàm range() trả về một chuỗi số, bắt đầu từ 0 theo mặc định và tăng lên 1 (theo mặc định) \n",
    "- và kết thúc tại một số được chỉ định."
   ]
  },
  {
   "cell_type": "code",
   "execution_count": 13,
   "metadata": {},
   "outputs": [
    {
     "name": "stdout",
     "output_type": "stream",
     "text": [
      "0 1 2 3 4 5 "
     ]
    }
   ],
   "source": [
    "for i in range(6):\n",
    "    print(i,end=' ')"
   ]
  },
  {
   "cell_type": "markdown",
   "metadata": {},
   "source": [
    "- Lưu ý rằng range(6) không phải là các giá trị từ 0 đến 6, mà là các giá trị từ 0 đến 5.\n",
    "- Hàm range() mặc định là 0 làm giá trị bắt đầu, tuy nhiên có thể chỉ định giá trị bắt đầu bằng \n",
    "- cách thêm tham số: range(2,6), có nghĩa là các giá trị từ 2 đến 6 (nhưng không bao gồm 6):"
   ]
  },
  {
   "cell_type": "code",
   "execution_count": 14,
   "metadata": {},
   "outputs": [
    {
     "name": "stdout",
     "output_type": "stream",
     "text": [
      "2 3 4 5 "
     ]
    }
   ],
   "source": [
    "for i in range(2,6):\n",
    "    print(i,end=' ')"
   ]
  },
  {
   "cell_type": "markdown",
   "metadata": {},
   "source": [
    "- Hàm range() mặc định tăng giá trị lên 1, tuy nhiên có thể chỉ định giá trị tăng bằng cách \n",
    "- thêm tham số thứ ba: range(2,30,3):"
   ]
  },
  {
   "cell_type": "code",
   "execution_count": 15,
   "metadata": {},
   "outputs": [
    {
     "name": "stdout",
     "output_type": "stream",
     "text": [
      "2 5 8 11 14 17 20 23 26 29 "
     ]
    }
   ],
   "source": [
    "# start,stop,step\n",
    "for i in range(2,30,3):\n",
    "    print(i,end=' ')"
   ]
  },
  {
   "cell_type": "markdown",
   "metadata": {},
   "source": [
    "### Sử dụng phát biểu \"else\" trong vòng lặp for"
   ]
  },
  {
   "cell_type": "markdown",
   "metadata": {},
   "source": [
    "- Từ khóa else trong vòng lặp for chỉ định một khối mã sẽ được thực thi khi vòng lặp kết thúc:"
   ]
  },
  {
   "cell_type": "markdown",
   "metadata": {},
   "source": [
    "- Ví dụ: In tất cả các số từ 0 đến 5 và in thông báo khi vòng lặp kết thúc:"
   ]
  },
  {
   "cell_type": "code",
   "execution_count": 17,
   "metadata": {},
   "outputs": [
    {
     "name": "stdout",
     "output_type": "stream",
     "text": [
      "0 1 2 3 4 5 \n",
      "Cuối cùng đã hoàn thành rồi bạn ơi\n"
     ]
    }
   ],
   "source": [
    "for i in range(6):\n",
    "    print(i,end=' ')\n",
    "    break\n",
    "else:\n",
    "    print('\\nCuối cùng đã hoàn thành rồi bạn ơi')"
   ]
  },
  {
   "cell_type": "markdown",
   "metadata": {},
   "source": [
    "- Lưu ý: Khối else sẽ KHÔNG được thực thi nếu vòng lặp bị dừng bởi một câu lệnh break."
   ]
  },
  {
   "cell_type": "markdown",
   "metadata": {},
   "source": [
    "- Ví dụ: Ngắt vòng lặp khi i là 3 và xem điều gì xảy ra với khối else:"
   ]
  },
  {
   "cell_type": "code",
   "execution_count": 18,
   "metadata": {},
   "outputs": [
    {
     "name": "stdout",
     "output_type": "stream",
     "text": [
      "0 1 2 "
     ]
    }
   ],
   "source": [
    "for i in range(6):\n",
    "    if i==3: \n",
    "        break\n",
    "    print(i,end=' ')\n",
    "else:\n",
    "    print('\\nCuối cùng đã hoàn thành rồi bạn ơi')"
   ]
  },
  {
   "cell_type": "markdown",
   "metadata": {},
   "source": [
    "### Cách lồng nhiều vòng lặp for"
   ]
  },
  {
   "cell_type": "markdown",
   "metadata": {},
   "source": [
    "- Vòng lặp lồng nhau là một vòng lặp bên trong một vòng lặp khác.\n",
    "- \"Vòng lặp bên trong\" sẽ được thực hiện một lần cho mỗi lần lặp lại \"vòng lặp bên ngoài\":"
   ]
  },
  {
   "cell_type": "code",
   "execution_count": 19,
   "metadata": {},
   "outputs": [
    {
     "name": "stdout",
     "output_type": "stream",
     "text": [
      "đỏ táo\n",
      "đỏ chuối\n",
      "đỏ cam\n",
      "xanh táo\n",
      "xanh chuối\n",
      "xanh cam\n",
      "vàng táo\n",
      "vàng chuối\n",
      "vàng cam\n"
     ]
    }
   ],
   "source": [
    "mau=['đỏ','xanh','vàng']\n",
    "for i in mau:\n",
    "    for j in danh_sach:\n",
    "        print(i,j)"
   ]
  },
  {
   "cell_type": "markdown",
   "metadata": {},
   "source": [
    "### Sử dụng phát biểu pass với vòng lặp for"
   ]
  },
  {
   "cell_type": "markdown",
   "metadata": {},
   "source": [
    "- Vòng lặp for không được để trống, nhưng nếu bạn vì lý do nào đó mà vòng lặp for không có nội dung, \n",
    "- hãy đặt câu lệnh vượt qua để tránh gặp lỗi."
   ]
  },
  {
   "cell_type": "code",
   "execution_count": 20,
   "metadata": {},
   "outputs": [],
   "source": [
    "for i in danh_sach:\n",
    "    pass"
   ]
  },
  {
   "cell_type": "markdown",
   "metadata": {},
   "source": [
    "## Bài tập thực hành sử dụng vòng lặp"
   ]
  },
  {
   "cell_type": "markdown",
   "metadata": {},
   "source": [
    "### Bài tập 01"
   ]
  },
  {
   "cell_type": "code",
   "execution_count": 2,
   "metadata": {
    "ExecuteTime": {
     "end_time": "2022-11-14T13:43:31.608984Z",
     "start_time": "2022-11-14T13:43:31.595673Z"
    }
   },
   "outputs": [
    {
     "name": "stdout",
     "output_type": "stream",
     "text": [
      "1 2 3 4 5 6 7 8 9 10 "
     ]
    }
   ],
   "source": [
    "# Viết chương trình bằng python để tìm 10 số tự nhiên đầu tiên.\n",
    "# Sample output:\n",
    "# The natural numbers are:\n",
    "# 1 2 3 4 5 6 7 8 9 10\n",
    "i = 1\n",
    "while i<=10:\n",
    "    print(i,end=' ')\n",
    "    i+=1"
   ]
  },
  {
   "cell_type": "markdown",
   "metadata": {},
   "source": [
    "### Bài tập 02"
   ]
  },
  {
   "cell_type": "code",
   "execution_count": 4,
   "metadata": {
    "ExecuteTime": {
     "end_time": "2022-11-14T14:02:33.723598Z",
     "start_time": "2022-11-14T14:02:33.706263Z"
    }
   },
   "outputs": [
    {
     "name": "stdout",
     "output_type": "stream",
     "text": [
      "1 2 3 4 5 6 7 8 9 10 \n",
      "Tổng của 10 số tự nhiên đầu tiên: 55\n"
     ]
    }
   ],
   "source": [
    "# Viết chương trình bằng python để tìm tổng của 10 số tự nhiên đầu tiên.\n",
    "# Sample Output:\n",
    "# Find the first 10 natural numbers:\n",
    "# ----------------------------------\n",
    "# Các số tự nhiên là:\n",
    "# 1+2+3+4+5+6+7+8+9+10\n",
    "# Tổng của 10 số tự nhiên đầu tiên: 55\n",
    "i = 1\n",
    "tong=0\n",
    "while i<=10:\n",
    "    print(i,end=' ')\n",
    "    tong+=i  #tong=tong+i\n",
    "    i+=1\n",
    "else:\n",
    "    print(f'\\nTổng của 10 số tự nhiên đầu tiên: {tong}')"
   ]
  },
  {
   "cell_type": "markdown",
   "metadata": {},
   "source": [
    "### Bài tập 03"
   ]
  },
  {
   "cell_type": "code",
   "execution_count": 7,
   "metadata": {
    "ExecuteTime": {
     "end_time": "2022-11-14T14:11:48.713402Z",
     "start_time": "2022-11-14T14:11:46.579093Z"
    }
   },
   "outputs": [
    {
     "name": "stdout",
     "output_type": "stream",
     "text": [
      "Bạn muốn hiện thị ? số tự nhiên?100\n",
      "1 2 3 4 5 6 7 8 9 10 11 12 13 14 15 16 17 18 19 20 21 22 23 24 25 26 27 28 29 30 31 32 33 34 35 36 37 38 39 40 41 42 43 44 45 46 47 48 49 50 51 52 53 54 55 56 57 58 59 60 61 62 63 64 65 66 67 68 69 70 71 72 73 74 75 76 77 78 79 80 81 82 83 84 85 86 87 88 89 90 91 92 93 94 95 96 97 98 99 100 \n",
      "Tổng của 100 số tự nhiên đầu tiên: 5050\n"
     ]
    }
   ],
   "source": [
    "# Viết chương trình bằng python để hiển thị n số hạng tự nhiên và tổng của chúng.\n",
    "# Sample Output:\n",
    "# Input a number of terms: ?\n",
    "# The natural numbers upto 7th terms are:\n",
    "# 1 2 3 4 5 6 7 . . . ?\n",
    "# The sum of the natural numbers is: ?\n",
    "n = int(input('Bạn muốn hiện thị ? số tự nhiên?'))\n",
    "i = 1\n",
    "tong=0\n",
    "while i<=n:\n",
    "    print(i,end=' ')\n",
    "    tong+=i  #tong=tong+i\n",
    "    i+=1\n",
    "else:\n",
    "    print(f'\\nTổng của {n} số tự nhiên đầu tiên: {tong}')"
   ]
  },
  {
   "cell_type": "markdown",
   "metadata": {},
   "source": [
    "### Bài tập 04"
   ]
  },
  {
   "cell_type": "code",
   "execution_count": 21,
   "metadata": {},
   "outputs": [
    {
     "name": "stdout",
     "output_type": "stream",
     "text": [
      "Nhập vào giá trị13\n",
      "Số đã nhập là số nguyên tố.\n"
     ]
    }
   ],
   "source": [
    "# Viết chương trình trong python để kiểm tra xem một số có phải là số nguyên tố hay không.\n",
    "# Sample Output:\n",
    "# Input a number to check prime or not: 13\n",
    "# The entered number is a prime number.\n",
    "# In math, prime numbers are whole numbers greater than 1.\n",
    "# Prime numbers are divisible only by the number 1 or itself.\n",
    "# For example, 2, 3, 5, 7 and 11 are the first few prime numbers.\n"
   ]
  },
  {
   "cell_type": "markdown",
   "metadata": {},
   "source": [
    "### Bài tập 05"
   ]
  },
  {
   "cell_type": "code",
   "execution_count": 22,
   "metadata": {},
   "outputs": [
    {
     "name": "stdout",
     "output_type": "stream",
     "text": [
      "Nhập vào 1 giá trị: 1234\n",
      "Tổng các chữ số là: 10\n"
     ]
    }
   ],
   "source": [
    "# Viết chương trình trong python để tìm tổng các chữ số của một số đã cho.\n",
    "# Sample Output:\n",
    "# Input a number: 1234\n",
    "# The sum of digits of 1234 is: 10\n"
   ]
  },
  {
   "cell_type": "markdown",
   "metadata": {},
   "source": [
    "### Bài tập 06"
   ]
  },
  {
   "cell_type": "code",
   "execution_count": 26,
   "metadata": {},
   "outputs": [
    {
     "name": "stdout",
     "output_type": "stream",
     "text": [
      "Input the number upto: 5\n",
      "Multiplication table from 1 to 5\n",
      "1x1=1 2x1=2 3x1=3 4x1=4 5x1=5 1x2=2 2x2=4 3x2=6 4x2=8 5x2=10 1x3=3 2x3=6 3x3=9 4x3=12 5x3=15 1x4=4 2x4=8 3x4=12 4x4=16 5x4=20 1x5=5 2x5=10 3x5=15 4x5=20 5x5=25 1x6=6 2x6=12 3x6=18 4x6=24 5x6=30 1x7=7 2x7=14 3x7=21 4x7=28 5x7=35 1x8=8 2x8=16 3x8=24 4x8=32 5x8=40 1x9=9 2x9=18 3x9=27 4x9=36 5x9=45 1x10=10 2x10=20 3x10=30 4x10=40 5x10=50 "
     ]
    }
   ],
   "source": [
    "# Viết chương trình bằng python để hiển thị bảng cửu chương theo chiều dọc từ 1 đến n.\n",
    "# Sample Output:\n",
    "# Input the number upto: 5\n",
    "# Multiplication table from 1 to 5\n",
    "# 1x1=1 2x1=2 3x1=3 4x1=4 5x1=5\n",
    "# 1x2=2 2x2=4 3x2=6 4x2=8 5x2=10\n",
    "# 1x3=3 2x3=6 3x3=9 4x3=12 5x3=15\n",
    "# 1x4=4 2x4=8 3x4=12 4x4=16 5x4=20\n",
    "# 1x5=5 2x5=10 3x5=15 4x5=20 5x5=25\n",
    "# 1x6=6 2x6=12 3x6=18 4x6=24 5x6=30\n",
    "# 1x7=7 2x7=14 3x7=21 4x7=28 5x7=35\n",
    "# 1x8=8 2x8=16 3x8=24 4x8=32 5x8=40\n",
    "# 1x9=9 2x9=18 3x9=27 4x9=36 5x9=45\n",
    "# 1x10=10 2x10=20 3x10=30 4x10=40 5x10=50\n",
    "       "
   ]
  },
  {
   "cell_type": "markdown",
   "metadata": {},
   "source": [
    "### Bài tập 07"
   ]
  },
  {
   "cell_type": "code",
   "execution_count": 29,
   "metadata": {},
   "outputs": [
    {
     "name": "stdout",
     "output_type": "stream",
     "text": [
      "2 4 6 8 10 \n",
      "Tổng các số tự nhiên là chẵn: 30\n"
     ]
    }
   ],
   "source": [
    "# Viết chương trình bằng python để hiển thị n số hạng của số tự nhiên chẵn và tổng của chúng.\n",
    "# Sample Output:\n",
    "# Input number of terms: 5\n",
    "# The even numbers are: 2 4 6 8 10\n",
    "# The Sum of even Natural Numbers upto 5 terms: 30\n"
   ]
  },
  {
   "cell_type": "markdown",
   "metadata": {},
   "source": [
    "### Bài tập 08"
   ]
  },
  {
   "cell_type": "code",
   "execution_count": 31,
   "metadata": {},
   "outputs": [
    {
     "name": "stdout",
     "output_type": "stream",
     "text": [
      "Nhập vào giá trị: 5\n",
      "9 99 999 9999 99999 \n",
      "Tổng của dãy số = 111105\n"
     ]
    }
   ],
   "source": [
    "# Viết chương trình bằng python để hiển thị tổng của chuỗi [9 + 99 + 999 + 9999 ...].\n",
    "# Sample Output:\n",
    "# Input number of terms: 5\n",
    "# 9 99 999 9999 99999\n",
    "# The sum of the sarise = 111105\n"
   ]
  },
  {
   "cell_type": "markdown",
   "metadata": {},
   "source": [
    "### Bài tập 09"
   ]
  },
  {
   "cell_type": "code",
   "execution_count": 40,
   "metadata": {},
   "outputs": [
    {
     "name": "stdout",
     "output_type": "stream",
     "text": [
      "108 117 126 135 144 153 162 171 180 189 198 \n",
      "The sum : 1683\n"
     ]
    }
   ],
   "source": [
    "# Viết chương trình trong python để tìm số và tổng của tất cả các số nguyên từ \n",
    "# 100 đến 200 chia hết cho 9.\n",
    "# Sample Output:\n",
    "# Numbers between 100 and 200, divisible by 9:\n",
    "# 108 117 126 135 144 153 162 171 180 189 198\n",
    "# The sum : 1683\n"
   ]
  },
  {
   "cell_type": "markdown",
   "metadata": {},
   "source": [
    "### Bài tập 10"
   ]
  },
  {
   "cell_type": "code",
   "execution_count": 32,
   "metadata": {},
   "outputs": [
    {
     "name": "stdout",
     "output_type": "stream",
     "text": [
      "65 --> A\n",
      "66 --> B\n",
      "67 --> C\n",
      "68 --> D\n",
      "69 --> E\n",
      "70 --> F\n",
      "71 --> G\n",
      "72 --> H\n",
      "73 --> I\n",
      "74 --> J\n"
     ]
    }
   ],
   "source": [
    "# Viết chương trình bằng python để in tất cả ký tự ASCII với các giá trị của chúng.\n",
    "# Sample Output:\n",
    "# Input the starting value for ASCII characters: 65\n",
    "# Input the ending value for ASCII characters: 75\n",
    "# The ASCII characters:\n",
    "# 65 --> A\n",
    "# 66 --> B\n",
    "# 67 --> C\n",
    "# 68 --> D\n",
    "# 69 --> E\n",
    "# 70 --> F\n",
    "# 71 --> G\n",
    "# 72 --> H\n",
    "# 73 --> I\n",
    "# 74 --> J\n",
    "# 75 --> K\n"
   ]
  },
  {
   "cell_type": "markdown",
   "metadata": {},
   "source": [
    "### Bài tập 11"
   ]
  },
  {
   "cell_type": "code",
   "execution_count": 36,
   "metadata": {},
   "outputs": [
    {
     "name": "stdout",
     "output_type": "stream",
     "text": [
      "2021-12-09 21:03:56\n"
     ]
    }
   ],
   "source": [
    "# Viết chương trình Python để hiển thị ngày và giờ hiện tại.\n",
    "# Sample Output :\n",
    "# Current date and time :\n",
    "# 2014-07-05 14:34:14\n"
   ]
  },
  {
   "cell_type": "markdown",
   "metadata": {},
   "source": [
    "### Bài tập 12"
   ]
  },
  {
   "cell_type": "code",
   "execution_count": 39,
   "metadata": {},
   "outputs": [
    {
     "name": "stdout",
     "output_type": "stream",
     "text": [
      "311\n"
     ]
    }
   ],
   "source": [
    "# Viết chương trình Python để tính số ngày giữa hai ngày.\n",
    "# Sample dates : (2014, 7, 2), (2014, 7, 11)\n",
    "# Expected output : 9 days\n"
   ]
  },
  {
   "cell_type": "markdown",
   "metadata": {},
   "source": [
    "> Hoàn thành nhiệm vụ!"
   ]
  }
 ],
 "metadata": {
  "hide_input": false,
  "kernelspec": {
   "display_name": "Python 3 (ipykernel)",
   "language": "python",
   "name": "python3"
  },
  "language_info": {
   "codemirror_mode": {
    "name": "ipython",
    "version": 3
   },
   "file_extension": ".py",
   "mimetype": "text/x-python",
   "name": "python",
   "nbconvert_exporter": "python",
   "pygments_lexer": "ipython3",
   "version": "3.9.13"
  },
  "latex_envs": {
   "LaTeX_envs_menu_present": true,
   "autoclose": false,
   "autocomplete": true,
   "bibliofile": "biblio.bib",
   "cite_by": "apalike",
   "current_citInitial": 1,
   "eqLabelWithNumbers": true,
   "eqNumInitial": 1,
   "hotkeys": {
    "equation": "Ctrl-E",
    "itemize": "Ctrl-I"
   },
   "labels_anchors": false,
   "latex_user_defs": false,
   "report_style_numbering": false,
   "user_envs_cfg": false
  },
  "nbTranslate": {
   "displayLangs": [
    "*"
   ],
   "hotkey": "alt-t",
   "langInMainMenu": true,
   "sourceLang": "en",
   "targetLang": "fr",
   "useGoogleTranslate": true
  },
  "toc": {
   "base_numbering": 1,
   "nav_menu": {
    "height": "625px",
    "width": "670px"
   },
   "number_sections": true,
   "sideBar": true,
   "skip_h1_title": false,
   "title_cell": "Table of Contents",
   "title_sidebar": "Contents",
   "toc_cell": false,
   "toc_position": {
    "height": "calc(100% - 180px)",
    "left": "10px",
    "top": "150px",
    "width": "165px"
   },
   "toc_section_display": true,
   "toc_window_display": true
  },
  "varInspector": {
   "cols": {
    "lenName": 16,
    "lenType": 16,
    "lenVar": 40
   },
   "kernels_config": {
    "python": {
     "delete_cmd_postfix": "",
     "delete_cmd_prefix": "del ",
     "library": "var_list.py",
     "varRefreshCmd": "print(var_dic_list())"
    },
    "r": {
     "delete_cmd_postfix": ") ",
     "delete_cmd_prefix": "rm(",
     "library": "var_list.r",
     "varRefreshCmd": "cat(var_dic_list()) "
    }
   },
   "types_to_exclude": [
    "module",
    "function",
    "builtin_function_or_method",
    "instance",
    "_Feature"
   ],
   "window_display": false
  }
 },
 "nbformat": 4,
 "nbformat_minor": 4
}
