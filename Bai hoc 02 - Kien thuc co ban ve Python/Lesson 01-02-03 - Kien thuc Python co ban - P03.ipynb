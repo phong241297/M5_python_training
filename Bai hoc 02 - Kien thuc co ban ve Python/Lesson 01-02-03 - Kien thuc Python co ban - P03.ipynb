{
 "cells": [
  {
   "cell_type": "markdown",
   "metadata": {},
   "source": [
    "# Kiến thức Python cơ bản - Phần 03"
   ]
  },
  {
   "cell_type": "markdown",
   "metadata": {},
   "source": [
    "- Có 4 kiểu dữ liệu collection trong ngôn ngữ lập trình Python:\n",
    "    - List là một tập hợp được sắp xếp và có thể thay đổi. Cho phép các phần tử trùng lặp.\n",
    "    - Tuple là một bộ sưu tập có thứ tự và không thể thay đổi. Cho phép các phần tử trùng lặp.\n",
    "    - Set là một tập hợp không có thứ tự và không được lập chỉ mục. Không có phần tử trùng lặp.\n",
    "    - Dictionary là một tập hợp được sắp xếp theo thứ tự và có thể thay đổi. Không có phần tử trùng lặp.\n",
    "- Ghi chú: Kể từ phiên bản Python 3.7, các từ điển đã được sắp xếp theo thứ tự. \n",
    "- Trong Python 3.6 trở về trước, từ điển không có thứ tự."
   ]
  },
  {
   "cell_type": "markdown",
   "metadata": {},
   "source": [
    "## Kiến thức về Python Lists"
   ]
  },
  {
   "cell_type": "markdown",
   "metadata": {},
   "source": [
    "- Lists được sử dụng để lưu trữ nhiều phần tử trong một biến duy nhất.\n",
    "- Lists là một trong 4 kiểu dữ liệu tích hợp sẵn (built-in data types) trong Python được \n",
    "- sử dụng để lưu trữ các bộ sưu tập dữ liệu, 3 kiểu còn lại là Tuple, Set và Dictionary.\n",
    "- Lists được tạo bằng []."
   ]
  },
  {
   "cell_type": "code",
   "execution_count": 1,
   "metadata": {
    "ExecuteTime": {
     "end_time": "2022-11-16T12:39:01.819940Z",
     "start_time": "2022-11-16T12:39:01.804823Z"
    }
   },
   "outputs": [
    {
     "name": "stdout",
     "output_type": "stream",
     "text": [
      "['apple', 'banana', 'cherry']\n"
     ]
    }
   ],
   "source": [
    "# Tạo một danh sách:\n",
    "danh_sach = [\"apple\", \"banana\", \"cherry\"]\n",
    "print(danh_sach)"
   ]
  },
  {
   "cell_type": "markdown",
   "metadata": {},
   "source": [
    "- Các mục trong danh sách được sắp xếp theo thứ tự, có thể thay đổi và cho phép các giá trị trùng lặp.\n",
    "- Các mục trong danh sách được lập chỉ mục, mục đầu tiên có chỉ mục [0], mục thứ hai có chỉ mục [1], v.v.\n",
    "- Danh sách được sắp xếp theo thứ tự, điều đó có nghĩa là các mục có thứ tự xác định và thứ tự đó sẽ không thay đổi.\n",
    "- Nếu bạn thêm các mục mới vào danh sách, các mục mới sẽ được đặt ở cuối danh sách.\n",
    "- Danh sách có thể thay đổi, nghĩa là chúng ta có thể thay đổi, thêm và xóa các mục trong danh sách sau khi nó đã được tạo.\n",
    "- Vì danh sách được lập chỉ mục nên danh sách có thể có các mục có cùng giá trị."
   ]
  },
  {
   "cell_type": "code",
   "execution_count": 2,
   "metadata": {
    "ExecuteTime": {
     "end_time": "2022-11-16T12:42:49.906922Z",
     "start_time": "2022-11-16T12:42:49.897922Z"
    }
   },
   "outputs": [
    {
     "name": "stdout",
     "output_type": "stream",
     "text": [
      "['apple', 'banana', 'cherry', 'apple', 'cherry']\n"
     ]
    }
   ],
   "source": [
    "# Danh sách cho phép các giá trị trùng lặp\n",
    "danh_sach = [\"apple\", \"banana\", \"cherry\", \"apple\", \"cherry\"]\n",
    "print(danh_sach)"
   ]
  },
  {
   "cell_type": "markdown",
   "metadata": {},
   "source": [
    "- Để xác định danh sách có bao nhiêu mục, hãy sử dụng hàm len()."
   ]
  },
  {
   "cell_type": "code",
   "execution_count": 3,
   "metadata": {
    "ExecuteTime": {
     "end_time": "2022-11-03T10:28:45.672675Z",
     "start_time": "2022-11-03T10:28:45.668617Z"
    }
   },
   "outputs": [
    {
     "name": "stdout",
     "output_type": "stream",
     "text": [
      "5\n"
     ]
    }
   ],
   "source": [
    "# In số lượng các mục trong danh sách\n",
    "print(len(danh_sach))"
   ]
  },
  {
   "cell_type": "markdown",
   "metadata": {},
   "source": [
    "- Các mục trong danh sách có thể thuộc bất kỳ kiểu dữ liệu nào."
   ]
  },
  {
   "cell_type": "code",
   "execution_count": 4,
   "metadata": {
    "ExecuteTime": {
     "end_time": "2022-11-03T10:28:45.859873Z",
     "start_time": "2022-11-03T10:28:45.852870Z"
    }
   },
   "outputs": [
    {
     "name": "stdout",
     "output_type": "stream",
     "text": [
      "['apple', 'banana', 'cherry']\n",
      "[1, 5, 7, 9, 3]\n",
      "[True, False, False]\n"
     ]
    }
   ],
   "source": [
    "# Các kiểu dữ liệu string, int và boolean\n",
    "list1 = [\"apple\", \"banana\", \"cherry\"]\n",
    "list2 = [1, 5, 7, 9, 3]\n",
    "list3 = [True, False, False]\n",
    "\n",
    "print(list1)\n",
    "print(list2)\n",
    "print(list3)"
   ]
  },
  {
   "cell_type": "markdown",
   "metadata": {},
   "source": [
    "- Một danh sách có thể chứa các kiểu dữ liệu khác nhau:"
   ]
  },
  {
   "cell_type": "code",
   "execution_count": 5,
   "metadata": {
    "ExecuteTime": {
     "end_time": "2022-11-03T10:28:46.091351Z",
     "start_time": "2022-11-03T10:28:46.075418Z"
    }
   },
   "outputs": [
    {
     "name": "stdout",
     "output_type": "stream",
     "text": [
      "['abc', 34, True, 40, 'male']\n"
     ]
    }
   ],
   "source": [
    "list1 = [\"abc\", 34, True, 40, \"male\"]\n",
    "print(list1)"
   ]
  },
  {
   "cell_type": "markdown",
   "metadata": {},
   "source": [
    "- Sử dụng hàm type() để xác định kiểu dữ liệu."
   ]
  },
  {
   "cell_type": "code",
   "execution_count": 6,
   "metadata": {
    "ExecuteTime": {
     "end_time": "2022-11-03T10:28:46.308480Z",
     "start_time": "2022-11-03T10:28:46.295386Z"
    }
   },
   "outputs": [
    {
     "name": "stdout",
     "output_type": "stream",
     "text": [
      "<class 'list'>\n"
     ]
    }
   ],
   "source": [
    "danh_sach = [\"apple\", \"banana\", \"cherry\"]\n",
    "print(type(danh_sach))"
   ]
  },
  {
   "cell_type": "markdown",
   "metadata": {},
   "source": [
    "- Cũng có thể sử dụng hàm tạo list() khi tạo một danh sách mới."
   ]
  },
  {
   "cell_type": "code",
   "execution_count": 7,
   "metadata": {
    "ExecuteTime": {
     "end_time": "2022-11-03T10:28:46.483051Z",
     "start_time": "2022-11-03T10:28:46.471219Z"
    }
   },
   "outputs": [
    {
     "name": "stdout",
     "output_type": "stream",
     "text": [
      "['apple', 'banana', 'cherry']\n"
     ]
    }
   ],
   "source": [
    "danh_sach = list((\"apple\", \"banana\", \"cherry\"))\n",
    "print(danh_sach)"
   ]
  },
  {
   "cell_type": "markdown",
   "metadata": {},
   "source": [
    "### Cách truy cập phần tử trong Lists"
   ]
  },
  {
   "cell_type": "code",
   "execution_count": 5,
   "metadata": {
    "ExecuteTime": {
     "end_time": "2022-11-16T12:50:46.381428Z",
     "start_time": "2022-11-16T12:50:46.196374Z"
    }
   },
   "outputs": [
    {
     "name": "stdout",
     "output_type": "stream",
     "text": [
      "apple\n",
      "banana\n",
      "cherry\n"
     ]
    },
    {
     "ename": "IndexError",
     "evalue": "list index out of range",
     "output_type": "error",
     "traceback": [
      "\u001b[1;31m---------------------------------------------------------------------------\u001b[0m",
      "\u001b[1;31mIndexError\u001b[0m                                Traceback (most recent call last)",
      "\u001b[1;32m~\\AppData\\Local\\Temp\\ipykernel_11384\\614626022.py\u001b[0m in \u001b[0;36m<module>\u001b[1;34m\u001b[0m\n\u001b[0;32m      4\u001b[0m \u001b[0mprint\u001b[0m\u001b[1;33m(\u001b[0m\u001b[0mdanh_sach\u001b[0m\u001b[1;33m[\u001b[0m\u001b[1;36m1\u001b[0m\u001b[1;33m]\u001b[0m\u001b[1;33m)\u001b[0m\u001b[1;33m\u001b[0m\u001b[1;33m\u001b[0m\u001b[0m\n\u001b[0;32m      5\u001b[0m \u001b[0mprint\u001b[0m\u001b[1;33m(\u001b[0m\u001b[0mdanh_sach\u001b[0m\u001b[1;33m[\u001b[0m\u001b[1;36m2\u001b[0m\u001b[1;33m]\u001b[0m\u001b[1;33m)\u001b[0m\u001b[1;33m\u001b[0m\u001b[1;33m\u001b[0m\u001b[0m\n\u001b[1;32m----> 6\u001b[1;33m \u001b[0mprint\u001b[0m\u001b[1;33m(\u001b[0m\u001b[0mdanh_sach\u001b[0m\u001b[1;33m[\u001b[0m\u001b[1;36m3\u001b[0m\u001b[1;33m]\u001b[0m\u001b[1;33m)\u001b[0m\u001b[1;33m\u001b[0m\u001b[1;33m\u001b[0m\u001b[0m\n\u001b[0m",
      "\u001b[1;31mIndexError\u001b[0m: list index out of range"
     ]
    }
   ],
   "source": [
    "# Lấy ra phần tử thứ 2 trong danh sách\n",
    "danh_sach = [\"apple\", \"banana\", \"cherry\"]\n",
    "print(danh_sach[0])\n",
    "print(danh_sach[1])\n",
    "print(danh_sach[2])\n",
    "print(danh_sach[3])"
   ]
  },
  {
   "cell_type": "markdown",
   "metadata": {},
   "source": [
    "- -1 đề cập đến mục cuối cùng, -2 đề cập đến mục cuối cùng thứ hai,v.v."
   ]
  },
  {
   "cell_type": "code",
   "execution_count": 7,
   "metadata": {
    "ExecuteTime": {
     "end_time": "2022-11-16T12:53:50.336330Z",
     "start_time": "2022-11-16T12:53:50.311121Z"
    }
   },
   "outputs": [
    {
     "name": "stdout",
     "output_type": "stream",
     "text": [
      "cherry\n",
      "banana\n",
      "apple\n"
     ]
    },
    {
     "ename": "IndexError",
     "evalue": "list index out of range",
     "output_type": "error",
     "traceback": [
      "\u001b[1;31m---------------------------------------------------------------------------\u001b[0m",
      "\u001b[1;31mIndexError\u001b[0m                                Traceback (most recent call last)",
      "\u001b[1;32m~\\AppData\\Local\\Temp\\ipykernel_11384\\3530572855.py\u001b[0m in \u001b[0;36m<module>\u001b[1;34m\u001b[0m\n\u001b[0;32m      2\u001b[0m \u001b[0mprint\u001b[0m\u001b[1;33m(\u001b[0m\u001b[0mdanh_sach\u001b[0m\u001b[1;33m[\u001b[0m\u001b[1;33m-\u001b[0m\u001b[1;36m2\u001b[0m\u001b[1;33m]\u001b[0m\u001b[1;33m)\u001b[0m\u001b[1;33m\u001b[0m\u001b[1;33m\u001b[0m\u001b[0m\n\u001b[0;32m      3\u001b[0m \u001b[0mprint\u001b[0m\u001b[1;33m(\u001b[0m\u001b[0mdanh_sach\u001b[0m\u001b[1;33m[\u001b[0m\u001b[1;33m-\u001b[0m\u001b[1;36m3\u001b[0m\u001b[1;33m]\u001b[0m\u001b[1;33m)\u001b[0m\u001b[1;33m\u001b[0m\u001b[1;33m\u001b[0m\u001b[0m\n\u001b[1;32m----> 4\u001b[1;33m \u001b[0mprint\u001b[0m\u001b[1;33m(\u001b[0m\u001b[0mdanh_sach\u001b[0m\u001b[1;33m[\u001b[0m\u001b[1;33m-\u001b[0m\u001b[1;36m4\u001b[0m\u001b[1;33m]\u001b[0m\u001b[1;33m)\u001b[0m\u001b[1;33m\u001b[0m\u001b[1;33m\u001b[0m\u001b[0m\n\u001b[0m",
      "\u001b[1;31mIndexError\u001b[0m: list index out of range"
     ]
    }
   ],
   "source": [
    "print(danh_sach[-1])\n",
    "print(danh_sach[-2])\n",
    "print(danh_sach[-3])\n",
    "# print(danh_sach[-4])   #IndexError: list index out of range "
   ]
  },
  {
   "cell_type": "code",
   "execution_count": 10,
   "metadata": {
    "ExecuteTime": {
     "end_time": "2022-11-03T10:28:46.888444Z",
     "start_time": "2022-11-03T10:28:46.878372Z"
    }
   },
   "outputs": [
    {
     "name": "stdout",
     "output_type": "stream",
     "text": [
      "['cherry', 'orange', 'kiwi']\n",
      "['apple', 'banana', 'cherry', 'orange']\n",
      "['kiwi', 'melon', 'mango']\n",
      "['orange', 'kiwi', 'melon']\n"
     ]
    }
   ],
   "source": [
    "# Lấy ra các phần tử trong phạm vi từ 2-4\n",
    "danh_sach = [\"apple\", \"banana\", \"cherry\", \"orange\", \"kiwi\", \"melon\", \"mango\"]\n",
    "print(danh_sach[2:5])\n",
    "# Lưu ý: Tìm kiếm sẽ bắt đầu ở chỉ mục 2 (bao gồm) và kết thúc ở chỉ mục 5 (không bao gồm).\n",
    "print(danh_sach[:4])\n",
    "print(danh_sach[4:])\n",
    "print(danh_sach[-4:-1])"
   ]
  },
  {
   "cell_type": "markdown",
   "metadata": {},
   "source": [
    "- Để xác định xem một mục cụ thể có xuất hiện trong danh sách hay không, hãy sử dụng từ khóa in:"
   ]
  },
  {
   "cell_type": "code",
   "execution_count": 9,
   "metadata": {
    "ExecuteTime": {
     "end_time": "2022-11-16T13:01:12.765061Z",
     "start_time": "2022-11-16T13:01:12.760064Z"
    }
   },
   "outputs": [
    {
     "name": "stdout",
     "output_type": "stream",
     "text": [
      "Có apple trong danh sách!\n"
     ]
    }
   ],
   "source": [
    "if \"apple\" in danh_sach:\n",
    "    print(\"Có apple trong danh sách!\")\n",
    "else:\n",
    "    print('Ko có bạn ơi')"
   ]
  },
  {
   "cell_type": "markdown",
   "metadata": {},
   "source": [
    "### Cách thay đổi giá trị trong Lists"
   ]
  },
  {
   "cell_type": "code",
   "execution_count": 12,
   "metadata": {
    "ExecuteTime": {
     "end_time": "2022-11-16T13:03:24.877178Z",
     "start_time": "2022-11-16T13:03:24.868125Z"
    }
   },
   "outputs": [
    {
     "name": "stdout",
     "output_type": "stream",
     "text": [
      "['Táo', 'Ha ha hi hi', 'Học python hay quá :D']\n"
     ]
    }
   ],
   "source": [
    "danh_sach[2] = \"Học python hay quá :D\"\n",
    "print(danh_sach)"
   ]
  },
  {
   "cell_type": "code",
   "execution_count": 13,
   "metadata": {
    "ExecuteTime": {
     "end_time": "2022-11-03T10:28:47.309472Z",
     "start_time": "2022-11-03T10:28:47.291825Z"
    }
   },
   "outputs": [
    {
     "name": "stdout",
     "output_type": "stream",
     "text": [
      "['Táo', 'chuối', 'cam', 'orange', 'kiwi', 'melon', 'mango']\n"
     ]
    }
   ],
   "source": [
    "danh_sach[1:3] = [\"chuối\", \"cam\"]\n",
    "print(danh_sach)"
   ]
  },
  {
   "cell_type": "code",
   "execution_count": 14,
   "metadata": {
    "ExecuteTime": {
     "end_time": "2022-11-03T10:28:47.371005Z",
     "start_time": "2022-11-03T10:28:47.357010Z"
    }
   },
   "outputs": [
    {
     "name": "stdout",
     "output_type": "stream",
     "text": [
      "['Táo', 'chuối', 'vải', 'nhãn', 'cam', 'orange', 'kiwi', 'melon', 'mango']\n"
     ]
    }
   ],
   "source": [
    "# Nếu bạn chèn nhiều mục hơn số lượng bạn thay thế, các mục mới sẽ được chèn \n",
    "# vào nơi bạn đã chỉ định và các mục còn lại sẽ di chuyển tương ứng\n",
    "danh_sach[1:2] = [\"chuối\", \"vải\", \"nhãn\"]\n",
    "print(danh_sach)"
   ]
  },
  {
   "cell_type": "code",
   "execution_count": 15,
   "metadata": {
    "ExecuteTime": {
     "end_time": "2022-11-03T10:28:47.434342Z",
     "start_time": "2022-11-03T10:28:47.419282Z"
    }
   },
   "outputs": [
    {
     "name": "stdout",
     "output_type": "stream",
     "text": [
      "['apple', 'táo']\n"
     ]
    }
   ],
   "source": [
    "# Thay đổi giá trị thứ 2 và thứ 3 bằng cách thay thế nó bằng một giá trị\n",
    "danh_sach = [\"apple\", \"banana\", \"cherry\"]\n",
    "danh_sach[1:3] = [\"táo\"]\n",
    "print(danh_sach)"
   ]
  },
  {
   "cell_type": "code",
   "execution_count": 16,
   "metadata": {
    "ExecuteTime": {
     "end_time": "2022-11-03T10:28:47.496641Z",
     "start_time": "2022-11-03T10:28:47.482974Z"
    }
   },
   "outputs": [
    {
     "name": "stdout",
     "output_type": "stream",
     "text": [
      "['apple', 'banana', 'quýt', 'cherry']\n"
     ]
    }
   ],
   "source": [
    "# Sử dụng hàm insert() chèn một mục tại chỉ mục được chỉ định\n",
    "danh_sach = [\"apple\", \"banana\", \"cherry\"]\n",
    "danh_sach.insert(2, \"quýt\")\n",
    "print(danh_sach)"
   ]
  },
  {
   "cell_type": "markdown",
   "metadata": {},
   "source": [
    "### Cách thêm phần tử vào Lists"
   ]
  },
  {
   "cell_type": "code",
   "execution_count": 17,
   "metadata": {
    "ExecuteTime": {
     "end_time": "2022-11-03T10:28:47.682875Z",
     "start_time": "2022-11-03T10:28:47.672310Z"
    }
   },
   "outputs": [
    {
     "name": "stdout",
     "output_type": "stream",
     "text": [
      "['táo', 'chuối', 'anh đào', 'cam']\n"
     ]
    }
   ],
   "source": [
    "# sử dụng append() để gắn thêm phần tử vào cuối danh sách\n",
    "danh_sach = [\"táo\", \"chuối\", \"anh đào\"]\n",
    "danh_sach.append(\"cam\")\n",
    "print(danh_sach)"
   ]
  },
  {
   "cell_type": "code",
   "execution_count": 18,
   "metadata": {
    "ExecuteTime": {
     "end_time": "2022-11-03T10:28:47.745227Z",
     "start_time": "2022-11-03T10:28:47.739227Z"
    }
   },
   "outputs": [
    {
     "name": "stdout",
     "output_type": "stream",
     "text": [
      "['táo', 'quýt', 'chuối', 'anh đào', 'cam']\n"
     ]
    }
   ],
   "source": [
    "# Sử dụng insert() để chèn thêm phần tử vào chỉ mục trong danh sách\n",
    "danh_sach.insert(1, \"quýt\")\n",
    "print(danh_sach)"
   ]
  },
  {
   "cell_type": "code",
   "execution_count": 19,
   "metadata": {
    "ExecuteTime": {
     "end_time": "2022-11-03T10:28:47.823744Z",
     "start_time": "2022-11-03T10:28:47.804566Z"
    }
   },
   "outputs": [
    {
     "name": "stdout",
     "output_type": "stream",
     "text": [
      "['táo', 'chuối', 'anh đào', 'xoài', 'dứa', 'đu đủ']\n"
     ]
    }
   ],
   "source": [
    "# Để nối các phần tử từ một danh sách khác vào danh sách hiện tại, \n",
    "# hãy sử dụng phương thức extend()\n",
    "danh_sach1 = [\"táo\", \"chuối\", \"anh đào\"]\n",
    "danh_sach2 = [\"xoài\", \"dứa\", \"đu đủ\"]\n",
    "danh_sach1.extend(danh_sach2)\n",
    "print(danh_sach1)"
   ]
  },
  {
   "cell_type": "code",
   "execution_count": 20,
   "metadata": {
    "ExecuteTime": {
     "end_time": "2022-11-03T10:28:47.885960Z",
     "start_time": "2022-11-03T10:28:47.870051Z"
    }
   },
   "outputs": [
    {
     "name": "stdout",
     "output_type": "stream",
     "text": [
      "['táo', 'chuối', 'anh đào', 'Quả kiwi', 'cam']\n"
     ]
    }
   ],
   "source": [
    "# Thêm các phần tử của một tuple vào danh sách\n",
    "danh_sach1 = [\"táo\", \"chuối\", \"anh đào\"]\n",
    "danh_sach2 = (\"Quả kiwi\", \"cam\")\n",
    "danh_sach1.extend(danh_sach2)\n",
    "print(danh_sach1)"
   ]
  },
  {
   "cell_type": "markdown",
   "metadata": {},
   "source": [
    "### Cách xóa phần tử trong Lists"
   ]
  },
  {
   "cell_type": "code",
   "execution_count": 21,
   "metadata": {
    "ExecuteTime": {
     "end_time": "2022-11-03T10:28:48.085969Z",
     "start_time": "2022-11-03T10:28:48.068867Z"
    }
   },
   "outputs": [
    {
     "name": "stdout",
     "output_type": "stream",
     "text": [
      "['táo', 'anh đào']\n"
     ]
    }
   ],
   "source": [
    "# sử dụng remove() để xóa phần tử khỏi danh sách\n",
    "danh_sach = [\"táo\", \"chuối\", \"anh đào\"]\n",
    "danh_sach.remove(\"chuối\")\n",
    "print(danh_sach)"
   ]
  },
  {
   "cell_type": "code",
   "execution_count": null,
   "metadata": {},
   "outputs": [],
   "source": [
    "danh_sach = [\"táo\", \"chuối\", \"anh đào\"]\n",
    "for item in danh_sach:\n",
    "    if item in ['táo','cam']:\n",
    "        danh_sach.remove(item)"
   ]
  },
  {
   "cell_type": "code",
   "execution_count": 22,
   "metadata": {
    "ExecuteTime": {
     "end_time": "2022-11-03T10:28:48.148093Z",
     "start_time": "2022-11-03T10:28:48.136091Z"
    }
   },
   "outputs": [
    {
     "name": "stdout",
     "output_type": "stream",
     "text": [
      "['táo', 'anh đào']\n"
     ]
    }
   ],
   "source": [
    "# sử dụng pop() để xóa phần tử theo chỉ mục\n",
    "danh_sach = [\"táo\", \"chuối\", \"anh đào\"]\n",
    "danh_sach.pop(1)\n",
    "print(danh_sach)"
   ]
  },
  {
   "cell_type": "code",
   "execution_count": 23,
   "metadata": {
    "ExecuteTime": {
     "end_time": "2022-11-03T10:28:48.211254Z",
     "start_time": "2022-11-03T10:28:48.202234Z"
    }
   },
   "outputs": [
    {
     "name": "stdout",
     "output_type": "stream",
     "text": [
      "['táo', 'chuối']\n"
     ]
    }
   ],
   "source": [
    "# Nếu bạn không chỉ định chỉ mục, phương thức pop() sẽ xóa mục cuối cùng\n",
    "danh_sach = [\"táo\", \"chuối\", \"anh đào\"]\n",
    "danh_sach.pop()\n",
    "print(danh_sach)"
   ]
  },
  {
   "cell_type": "code",
   "execution_count": 24,
   "metadata": {
    "ExecuteTime": {
     "end_time": "2022-11-03T10:28:48.273541Z",
     "start_time": "2022-11-03T10:28:48.268142Z"
    }
   },
   "outputs": [
    {
     "name": "stdout",
     "output_type": "stream",
     "text": [
      "['chuối', 'anh đào']\n"
     ]
    }
   ],
   "source": [
    "# Từ khóa del cũng xóa chỉ mục được chỉ định:\n",
    "danh_sach = [\"táo\", \"chuối\", \"anh đào\"]\n",
    "del danh_sach[0]\n",
    "print(danh_sach)"
   ]
  },
  {
   "cell_type": "code",
   "execution_count": 25,
   "metadata": {
    "ExecuteTime": {
     "end_time": "2022-11-03T10:28:48.335511Z",
     "start_time": "2022-11-03T10:28:48.331419Z"
    }
   },
   "outputs": [],
   "source": [
    "# Từ khóa del cũng có thể sử dụng để xóa hoàn toàn danh sách\n",
    "danh_sach = [\"táo\", \"chuối\", \"anh đào\"]\n",
    "del danh_sach"
   ]
  },
  {
   "cell_type": "code",
   "execution_count": 26,
   "metadata": {
    "ExecuteTime": {
     "end_time": "2022-11-03T10:28:48.414480Z",
     "start_time": "2022-11-03T10:28:48.400397Z"
    }
   },
   "outputs": [
    {
     "name": "stdout",
     "output_type": "stream",
     "text": [
      "[]\n"
     ]
    }
   ],
   "source": [
    "# sử dụng clear() để xóa trống danh sách\n",
    "danh_sach = [\"táo\", \"chuối\", \"anh đào\"]\n",
    "danh_sach.clear()\n",
    "print(danh_sach)"
   ]
  },
  {
   "cell_type": "markdown",
   "metadata": {},
   "source": [
    "### Sử dụng vòng lặp để duyệt phần tử trong Lists"
   ]
  },
  {
   "cell_type": "code",
   "execution_count": 27,
   "metadata": {
    "ExecuteTime": {
     "end_time": "2022-11-03T10:28:48.631017Z",
     "start_time": "2022-11-03T10:28:48.613645Z"
    }
   },
   "outputs": [
    {
     "name": "stdout",
     "output_type": "stream",
     "text": [
      "táo\n",
      "chuối\n",
      "anh đào\n"
     ]
    }
   ],
   "source": [
    "# In tất cả các phần tử trong danh sách, từng cái một\n",
    "danh_sach = [\"táo\", \"chuối\", \"anh đào\"]\n",
    "for i in danh_sach:\n",
    "    print(i)"
   ]
  },
  {
   "cell_type": "code",
   "execution_count": 28,
   "metadata": {
    "ExecuteTime": {
     "end_time": "2022-11-03T10:28:48.692671Z",
     "start_time": "2022-11-03T10:28:48.679474Z"
    }
   },
   "outputs": [
    {
     "name": "stdout",
     "output_type": "stream",
     "text": [
      "['táo', 'anh đào']\n"
     ]
    }
   ],
   "source": [
    "danh_sach = [\"táo\", \"chuối\", \"anh đào\"]\n",
    "ds_moi = []\n",
    "\n",
    "for it in danh_sach:\n",
    "    if \"o\" in it:\n",
    "        ds_moi.append(it)\n",
    "print(ds_moi)"
   ]
  },
  {
   "cell_type": "code",
   "execution_count": 29,
   "metadata": {
    "ExecuteTime": {
     "end_time": "2022-11-03T10:28:48.753676Z",
     "start_time": "2022-11-03T10:28:48.745676Z"
    }
   },
   "outputs": [
    {
     "name": "stdout",
     "output_type": "stream",
     "text": [
      "['chuối', 'anh đào']\n"
     ]
    }
   ],
   "source": [
    "# newlist = [expression for item in iterable if condition == True]\n",
    "danh_sach = [\"táo\", \"chuối\", \"anh đào\"]\n",
    "ds_moi = [a for a in danh_sach if a != \"táo\"]\n",
    "print(ds_moi)"
   ]
  },
  {
   "cell_type": "code",
   "execution_count": 30,
   "metadata": {
    "ExecuteTime": {
     "end_time": "2022-11-03T10:28:48.831870Z",
     "start_time": "2022-11-03T10:28:48.814326Z"
    }
   },
   "outputs": [
    {
     "name": "stdout",
     "output_type": "stream",
     "text": [
      "['táo', 'chuối', 'anh đào']\n"
     ]
    }
   ],
   "source": [
    "# Nếu chỉ đơn giản là duyệt và hiển thị các phần tử trong lists\n",
    "ds_moi = [a for a in danh_sach]\n",
    "print(ds_moi)"
   ]
  },
  {
   "cell_type": "markdown",
   "metadata": {},
   "source": [
    "### Sắp xếp phần tử trong lists"
   ]
  },
  {
   "cell_type": "code",
   "execution_count": 31,
   "metadata": {
    "ExecuteTime": {
     "end_time": "2022-11-03T10:28:49.037843Z",
     "start_time": "2022-11-03T10:28:49.033243Z"
    }
   },
   "outputs": [
    {
     "name": "stdout",
     "output_type": "stream",
     "text": [
      "['anh đào', 'chuối', 'táo']\n"
     ]
    }
   ],
   "source": [
    "danh_sach = [\"táo\", \"chuối\", \"anh đào\"]\n",
    "danh_sach.sort() # A-Z\n",
    "print(danh_sach)"
   ]
  },
  {
   "cell_type": "code",
   "execution_count": 32,
   "metadata": {
    "ExecuteTime": {
     "end_time": "2022-11-03T10:28:49.115563Z",
     "start_time": "2022-11-03T10:28:49.100989Z"
    }
   },
   "outputs": [
    {
     "name": "stdout",
     "output_type": "stream",
     "text": [
      "['táo', 'chuối', 'anh đào']\n"
     ]
    }
   ],
   "source": [
    "# Để sắp xếp giảm dần, hãy sử dụng đối số từ khóa reverse = True\n",
    "danh_sach = [\"táo\", \"chuối\", \"anh đào\"]\n",
    "danh_sach.sort(reverse=True) # Z-A\n",
    "print(danh_sach)"
   ]
  },
  {
   "cell_type": "code",
   "execution_count": 33,
   "metadata": {
    "ExecuteTime": {
     "end_time": "2022-11-03T10:28:49.177168Z",
     "start_time": "2022-11-03T10:28:49.166601Z"
    }
   },
   "outputs": [
    {
     "name": "stdout",
     "output_type": "stream",
     "text": [
      "['anh đào', 'chuối', 'táo']\n"
     ]
    }
   ],
   "source": [
    "# Sử dụng reverse() để đảo ngược danh sách\n",
    "danh_sach = [\"táo\", \"chuối\", \"anh đào\"]\n",
    "danh_sach.reverse()\n",
    "print(danh_sach)"
   ]
  },
  {
   "cell_type": "markdown",
   "metadata": {},
   "source": [
    "## Kiến thức về Python Tuples"
   ]
  },
  {
   "cell_type": "markdown",
   "metadata": {},
   "source": [
    "- Tuples được sử dụng để lưu trữ nhiều phần tử trong một biến duy nhất.\n",
    "- Tuple là một bộ sưu tập được sắp xếp theo thứ tự và không thể thay đổi.\n",
    "- Tuples được viết bằng dấu ()."
   ]
  },
  {
   "cell_type": "code",
   "execution_count": 34,
   "metadata": {
    "ExecuteTime": {
     "end_time": "2022-11-03T10:28:49.560504Z",
     "start_time": "2022-11-03T10:28:49.541419Z"
    }
   },
   "outputs": [
    {
     "name": "stdout",
     "output_type": "stream",
     "text": [
      "('táo', 'chuối', 'anh đào')\n"
     ]
    }
   ],
   "source": [
    "# Định nghĩa 1 tuples\n",
    "tpl = (\"táo\", \"chuối\", \"anh đào\")\n",
    "print(tpl)"
   ]
  },
  {
   "cell_type": "markdown",
   "metadata": {},
   "source": [
    "- Các phần tử trong Tuple được sắp xếp theo thứ tự, không thể thay đổi và cho phép các giá trị trùng lặp.\n",
    "- Tuple các phần tử được lập chỉ mục, phần tử đầu tiên có chỉ mục [0], mục thứ hai có chỉ mục [1], v.v.\n",
    "- Tuple là không thể thay đổi, có nghĩa là chúng ta không thể thay đổi, thêm hoặc xóa các mục sau khi bộ tuple đã được tạo.\n",
    "- Vì các bộ giá trị được lập chỉ mục nên chúng có thể có các mục có cùng giá trị."
   ]
  },
  {
   "cell_type": "code",
   "execution_count": 35,
   "metadata": {
    "ExecuteTime": {
     "end_time": "2022-11-03T10:28:49.764484Z",
     "start_time": "2022-11-03T10:28:49.755515Z"
    }
   },
   "outputs": [
    {
     "name": "stdout",
     "output_type": "stream",
     "text": [
      "('táo', 'chuối', 'anh đào', 'táo', 'anh đào')\n"
     ]
    }
   ],
   "source": [
    "tpl = (\"táo\", \"chuối\", \"anh đào\", \"táo\", \"anh đào\")\n",
    "print(tpl)"
   ]
  },
  {
   "cell_type": "code",
   "execution_count": 36,
   "metadata": {
    "ExecuteTime": {
     "end_time": "2022-11-03T10:28:49.826261Z",
     "start_time": "2022-11-03T10:28:49.819240Z"
    }
   },
   "outputs": [
    {
     "name": "stdout",
     "output_type": "stream",
     "text": [
      "<class 'tuple'>\n",
      "<class 'str'>\n"
     ]
    }
   ],
   "source": [
    "tpl01 = (\"táo\",)\n",
    "print(type(tpl01))\n",
    "\n",
    "#NOT a tuple\n",
    "tpl02 = (\"táo\")\n",
    "print(type(tpl02))"
   ]
  },
  {
   "cell_type": "code",
   "execution_count": 37,
   "metadata": {
    "ExecuteTime": {
     "end_time": "2022-11-03T10:28:49.901634Z",
     "start_time": "2022-11-03T10:28:49.887630Z"
    }
   },
   "outputs": [
    {
     "name": "stdout",
     "output_type": "stream",
     "text": [
      "('táo', 'chuối', 'anh đào')\n"
     ]
    }
   ],
   "source": [
    "# Sử dụng hàm tuple() để khởi tạo 1 tuples\n",
    "tpl = tuple((\"táo\", \"chuối\", \"anh đào\"))\n",
    "print(tpl)"
   ]
  },
  {
   "cell_type": "markdown",
   "metadata": {},
   "source": [
    "### Cách truy cập phần tử trong Tuples"
   ]
  },
  {
   "cell_type": "markdown",
   "metadata": {},
   "source": [
    "- Tương tự như trong Lists.\n",
    "- tpl[1]: Lấy ra giá trị ở chỉ mục 1.\n",
    "- -1 đề cập đến mục cuối cùng, -2 đề cập đến mục cuối cùng thứ hai, v.v.\n",
    "- tpl[2:5]: Lấy ra bắt đầu ở chỉ mục 2 (bao gồm) và kết thúc ở chỉ mục 5 (không bao gồm).\n",
    "- tpl[:4]: Lấy ra từ 0-3.\n",
    "- tpl[2:]: Lấy ra từ 2 đến cuối cùng.\n",
    "- tpl[-4,-1]: trả về các mục từ chỉ mục -4 (bao gồm) đến chỉ mục -1 (loại trừ).\n",
    "- if \"apple\" in tpl: Kiểm tra nếu có tồn tại."
   ]
  },
  {
   "cell_type": "markdown",
   "metadata": {},
   "source": [
    "### Cách cập nhật phần tử trong Tuples"
   ]
  },
  {
   "cell_type": "markdown",
   "metadata": {},
   "source": [
    "- Tuple không thể thay đổi, có nghĩa là bạn không thể thay đổi, thêm hoặc xóa các mục sau khi tuple được tạo.\n",
    "- Nhưng có một cách giải quyết. Bạn có thể chuyển đổi tuple thành một lists, thay đổi lists và chuyển đổi lại lists thành tuple.\n",
    "- Chuyển đổi tuple thành một danh sách để có thể thay đổi nó."
   ]
  },
  {
   "cell_type": "code",
   "execution_count": 38,
   "metadata": {
    "ExecuteTime": {
     "end_time": "2022-11-03T10:28:50.632752Z",
     "start_time": "2022-11-03T10:28:50.625588Z"
    }
   },
   "outputs": [
    {
     "name": "stdout",
     "output_type": "stream",
     "text": [
      "('táo', 'kiwi', 'anh đào')\n"
     ]
    }
   ],
   "source": [
    "x = (\"táo\", \"chuối\", \"anh đào\")\n",
    "y = list(x)\n",
    "y[1] = \"kiwi\"\n",
    "x = tuple(y)\n",
    "print(x)"
   ]
  },
  {
   "cell_type": "code",
   "execution_count": 39,
   "metadata": {
    "ExecuteTime": {
     "end_time": "2022-11-03T10:28:50.709649Z",
     "start_time": "2022-11-03T10:28:50.693538Z"
    }
   },
   "outputs": [
    {
     "name": "stdout",
     "output_type": "stream",
     "text": [
      "('táo', 'chuối', 'anh đào', 'cam')\n"
     ]
    }
   ],
   "source": [
    "# Cách 1: Convert into a list -> thêm phần tử vào tuple\n",
    "tpl = (\"táo\", \"chuối\", \"anh đào\")\n",
    "y = list(tpl)\n",
    "y.append(\"cam\")\n",
    "tpl = tuple(y)\n",
    "print(tpl)"
   ]
  },
  {
   "cell_type": "code",
   "execution_count": 40,
   "metadata": {
    "ExecuteTime": {
     "end_time": "2022-11-03T10:28:50.773243Z",
     "start_time": "2022-11-03T10:28:50.762242Z"
    }
   },
   "outputs": [
    {
     "name": "stdout",
     "output_type": "stream",
     "text": [
      "('táo', 'chuối', 'anh đào', 'cam')\n"
     ]
    }
   ],
   "source": [
    "# Cách 2: Add tuple to a tuple -> thêm phần tử vào tuple\n",
    "tpl = (\"táo\", \"chuối\", \"anh đào\")\n",
    "y = (\"cam\",)\n",
    "tpl += y\n",
    "print(tpl)"
   ]
  },
  {
   "cell_type": "markdown",
   "metadata": {},
   "source": [
    "- Tuples là không thể thay đổi, vì vậy bạn không thể xóa các mục khỏi nó, nhưng bạn có thể sử dụng cách giải quyết tương tự như chúng tôi đã sử dụng để thay đổi và thêm các mục."
   ]
  },
  {
   "cell_type": "markdown",
   "metadata": {},
   "source": [
    "### Cách \"Unpack\" trong tuples"
   ]
  },
  {
   "cell_type": "code",
   "execution_count": 41,
   "metadata": {
    "ExecuteTime": {
     "end_time": "2022-11-03T10:28:51.181894Z",
     "start_time": "2022-11-03T10:28:51.167894Z"
    }
   },
   "outputs": [
    {
     "name": "stdout",
     "output_type": "stream",
     "text": [
      "('táo', 'chuối', 'cam')\n"
     ]
    }
   ],
   "source": [
    "# Ví dụ 01 - Packing a tuple:\n",
    "danh_sach = (\"táo\", \"chuối\", \"cam\")\n",
    "print(danh_sach)"
   ]
  },
  {
   "cell_type": "code",
   "execution_count": 42,
   "metadata": {
    "ExecuteTime": {
     "end_time": "2022-11-03T10:28:51.244360Z",
     "start_time": "2022-11-03T10:28:51.237682Z"
    }
   },
   "outputs": [
    {
     "name": "stdout",
     "output_type": "stream",
     "text": [
      "táo\n",
      "chuối\n",
      "cam\n"
     ]
    }
   ],
   "source": [
    "# Ví dụ 02 - Unpacking a tuple:\n",
    "danh_sach = (\"táo\", \"chuối\", \"cam\")\n",
    "(green, yellow, red) = danh_sach\n",
    "print(green)\n",
    "print(yellow)\n",
    "print(red)"
   ]
  },
  {
   "cell_type": "markdown",
   "metadata": {},
   "source": [
    "- Lưu ý: Số lượng biến phải khớp với số lượng giá trị trong bộ tuple, \n",
    "- nếu không, bạn phải sử dụng dấu hoa thị để thu thập các giá trị còn lại dưới dạng danh sách.\n",
    "- Nếu số biến ít hơn số giá trị, bạn có thể thêm dấu * vào tên biến và các giá trị sẽ được gán cho biến dưới dạng danh sách."
   ]
  },
  {
   "cell_type": "code",
   "execution_count": 43,
   "metadata": {
    "ExecuteTime": {
     "end_time": "2022-11-03T10:28:51.491653Z",
     "start_time": "2022-11-03T10:28:51.483578Z"
    }
   },
   "outputs": [
    {
     "name": "stdout",
     "output_type": "stream",
     "text": [
      "táo\n",
      "chuối\n",
      "['cam', 'anh đào', 'bưởi', 'chanh']\n"
     ]
    }
   ],
   "source": [
    "danh_sach = (\"táo\", \"chuối\", \"cam\", \"anh đào\", \"bưởi\", \"chanh\")\n",
    "(green, yellow, *red) = danh_sach\n",
    "\n",
    "print(green)\n",
    "print(yellow)\n",
    "print(red)"
   ]
  },
  {
   "cell_type": "markdown",
   "metadata": {},
   "source": [
    "- Nếu dấu hoa thị được thêm vào tên biến khác với tên biến cuối cùng, \n",
    "- Python sẽ gán giá trị cho biến cho đến khi số giá trị còn lại khớp với số biến còn lại."
   ]
  },
  {
   "cell_type": "code",
   "execution_count": 44,
   "metadata": {
    "ExecuteTime": {
     "end_time": "2022-11-03T10:28:51.739889Z",
     "start_time": "2022-11-03T10:28:51.724522Z"
    }
   },
   "outputs": [
    {
     "name": "stdout",
     "output_type": "stream",
     "text": [
      "táo\n",
      "['chuối', 'cam', 'anh đào', 'bưởi']\n",
      "chanh\n"
     ]
    }
   ],
   "source": [
    "danh_sach = (\"táo\", \"chuối\", \"cam\", \"anh đào\", \"bưởi\", \"chanh\")\n",
    "(green, *tropic, red) = danh_sach\n",
    "print(green)\n",
    "print(tropic)\n",
    "print(red)"
   ]
  },
  {
   "cell_type": "markdown",
   "metadata": {},
   "source": [
    "### Cách duyệt tuples"
   ]
  },
  {
   "cell_type": "code",
   "execution_count": 45,
   "metadata": {
    "ExecuteTime": {
     "end_time": "2022-11-03T10:28:52.006640Z",
     "start_time": "2022-11-03T10:28:51.996537Z"
    }
   },
   "outputs": [
    {
     "name": "stdout",
     "output_type": "stream",
     "text": [
      "táo\n",
      "chuối\n",
      "cam\n"
     ]
    }
   ],
   "source": [
    "# Sử dụng vòng lặp for để duyệt tuples\n",
    "danh_sach = (\"táo\", \"chuối\", \"cam\")\n",
    "for i in danh_sach:\n",
    "    print(i)"
   ]
  },
  {
   "cell_type": "markdown",
   "metadata": {},
   "source": [
    "### Cách nối dữ liệu giữa các tuples"
   ]
  },
  {
   "cell_type": "code",
   "execution_count": 46,
   "metadata": {
    "ExecuteTime": {
     "end_time": "2022-11-03T10:28:52.286707Z",
     "start_time": "2022-11-03T10:28:52.275570Z"
    }
   },
   "outputs": [
    {
     "name": "stdout",
     "output_type": "stream",
     "text": [
      "('a', 'b', 'c', 1, 2, 3)\n"
     ]
    }
   ],
   "source": [
    "tuple1 = (\"a\", \"b\" , \"c\")\n",
    "tuple2 = (1, 2, 3)\n",
    "\n",
    "tuple3 = tuple1 + tuple2\n",
    "print(tuple3)"
   ]
  },
  {
   "cell_type": "markdown",
   "metadata": {},
   "source": [
    "## Kiến thức về Python Sets"
   ]
  },
  {
   "cell_type": "markdown",
   "metadata": {},
   "source": [
    "myset = {\"apple\", \"banana\", \"cherry\"}"
   ]
  },
  {
   "cell_type": "markdown",
   "metadata": {},
   "source": [
    "- Sets được sử dụng để lưu trữ nhiều phần tử trong một biến duy nhất.\n",
    "- Set là một trong 4 kiểu dữ liệu tích hợp sẵn trong Python dùng để lưu trữ các tập hợp dữ liệu.\n",
    "- Set là một tập hợp không có thứ tự và không được lập chỉ mục.\n",
    "- Set được viết bằng dấu {}.\n",
    "- Lưu ý: Các set không có thứ tự, vì vậy bạn không thể chắc chắn các phần tử sẽ xuất hiện theo thứ tự nào.\n",
    "- Các phần tử tập hợp là không có thứ tự, không thể thay đổi và không cho phép các giá trị trùng lặp."
   ]
  },
  {
   "cell_type": "code",
   "execution_count": 47,
   "metadata": {
    "ExecuteTime": {
     "end_time": "2022-11-03T10:28:52.875735Z",
     "start_time": "2022-11-03T10:28:52.857409Z"
    }
   },
   "outputs": [
    {
     "name": "stdout",
     "output_type": "stream",
     "text": [
      "{'táo', 'anh đào', 'chuối'}\n"
     ]
    }
   ],
   "source": [
    "myset = {\"táo\", \"chuối\", \"anh đào\"}\n",
    "print(myset)"
   ]
  },
  {
   "cell_type": "markdown",
   "metadata": {},
   "source": [
    "- Không có thứ tự có nghĩa là các phần tử trong một tập hợp không có thứ tự xác định.\n",
    "- Các phần tử tập hợp có thể xuất hiện theo một thứ tự khác nhau mỗi khi bạn sử dụng chúng và \n",
    "- không thể được tham chiếu bằng chỉ mục hoặc khóa.\n",
    "- Sau khi một set được tạo, bạn không thể thay đổi các phần tử của nó, nhưng bạn có thể thêm các phần tử mới.\n",
    "- Các giá trị trùng lặp sẽ bị bỏ qua."
   ]
  },
  {
   "cell_type": "markdown",
   "metadata": {},
   "source": [
    "### Cách truy cập phần tử"
   ]
  },
  {
   "cell_type": "markdown",
   "metadata": {},
   "source": [
    "- Không thể truy cập các phần tử trong một tập hợp bằng cách tham chiếu đến chỉ mục hoặc khóa.\n",
    "- Nhưng có thể lặp qua các phần tử bằng vòng lặp for hoặc kiểm tra sự tồn tại 1 phần tử trong set bằng cách sử dụng từ khóa in."
   ]
  },
  {
   "cell_type": "code",
   "execution_count": 48,
   "metadata": {
    "ExecuteTime": {
     "end_time": "2022-11-03T10:28:53.464681Z",
     "start_time": "2022-11-03T10:28:53.447404Z"
    }
   },
   "outputs": [
    {
     "name": "stdout",
     "output_type": "stream",
     "text": [
      "táo\n",
      "anh đào\n",
      "chuối\n"
     ]
    }
   ],
   "source": [
    "# Sử dụng vòng lặp for để duyệt và hiển thị các phần tử trong sets\n",
    "myset = {\"táo\", \"chuối\", \"anh đào\"}\n",
    "for i in myset:\n",
    "    print(i)"
   ]
  },
  {
   "cell_type": "code",
   "execution_count": 49,
   "metadata": {
    "ExecuteTime": {
     "end_time": "2022-11-03T10:28:53.526650Z",
     "start_time": "2022-11-03T10:28:53.513372Z"
    }
   },
   "outputs": [
    {
     "name": "stdout",
     "output_type": "stream",
     "text": [
      "Có phần tử này trong set!\n"
     ]
    }
   ],
   "source": [
    "myset = {\"táo\", \"chuối\", \"anh đào\"}\n",
    "if \"chuối\" in myset:\n",
    "    print(\"Có phần tử này trong set!\")"
   ]
  },
  {
   "cell_type": "markdown",
   "metadata": {},
   "source": [
    "### Cách thêm mới phần tử"
   ]
  },
  {
   "cell_type": "code",
   "execution_count": 23,
   "metadata": {
    "ExecuteTime": {
     "end_time": "2022-11-16T14:18:54.146426Z",
     "start_time": "2022-11-16T14:18:54.129434Z"
    }
   },
   "outputs": [
    {
     "name": "stdout",
     "output_type": "stream",
     "text": [
      "{'cam', 'táo', 'chuối', 'anh đào'}\n"
     ]
    }
   ],
   "source": [
    "# Sử dụng hàm add() để thêm phần tử vào\n",
    "myset = {\"táo\", \"chuối\", \"anh đào\"}\n",
    "myset.add(\"cam\")\n",
    "print(myset)"
   ]
  },
  {
   "cell_type": "markdown",
   "metadata": {},
   "source": [
    "- Để thêm các phần tử từ một tập hợp khác vào tập hợp hiện tại, hãy sử dụng phương thức update().\n",
    "- Đối tượng trong phương thức update() không nhất thiết phải là một set, nó có thể là bất kỳ đối tượng nào \n",
    "- có thể lặp lại (tuples, lists, dictionaries,v.v.)."
   ]
  },
  {
   "cell_type": "code",
   "execution_count": 51,
   "metadata": {
    "ExecuteTime": {
     "end_time": "2022-11-03T10:28:54.039242Z",
     "start_time": "2022-11-03T10:28:54.020225Z"
    }
   },
   "outputs": [
    {
     "name": "stdout",
     "output_type": "stream",
     "text": [
      "{'xoài', 'anh đào', 'chuối', 'dứa', 'táo', 'đu đủ'}\n"
     ]
    }
   ],
   "source": [
    "myset1 = {\"táo\", \"chuối\", \"anh đào\"}\n",
    "myset2 = {\"dứa\", \"xoài\", \"đu đủ\"}\n",
    "myset1.update(myset2)\n",
    "print(myset1)"
   ]
  },
  {
   "cell_type": "markdown",
   "metadata": {},
   "source": [
    "### Cách xóa phần tử"
   ]
  },
  {
   "cell_type": "code",
   "execution_count": 52,
   "metadata": {
    "ExecuteTime": {
     "end_time": "2022-11-03T10:28:54.456873Z",
     "start_time": "2022-11-03T10:28:54.283883Z"
    }
   },
   "outputs": [
    {
     "ename": "KeyError",
     "evalue": "'chuối2'",
     "output_type": "error",
     "traceback": [
      "\u001b[1;31m---------------------------------------------------------------------------\u001b[0m",
      "\u001b[1;31mKeyError\u001b[0m                                  Traceback (most recent call last)",
      "\u001b[1;32m~\\AppData\\Local\\Temp\\ipykernel_11296\\555115224.py\u001b[0m in \u001b[0;36m<module>\u001b[1;34m\u001b[0m\n\u001b[0;32m      2\u001b[0m \u001b[1;31m# Cách 1: Xóa bằng remove()\u001b[0m\u001b[1;33m\u001b[0m\u001b[1;33m\u001b[0m\u001b[0m\n\u001b[0;32m      3\u001b[0m \u001b[0mmyset\u001b[0m \u001b[1;33m=\u001b[0m \u001b[1;33m{\u001b[0m\u001b[1;34m\"táo\"\u001b[0m\u001b[1;33m,\u001b[0m \u001b[1;34m\"chuối\"\u001b[0m\u001b[1;33m,\u001b[0m \u001b[1;34m\"anh đào\"\u001b[0m\u001b[1;33m}\u001b[0m\u001b[1;33m\u001b[0m\u001b[1;33m\u001b[0m\u001b[0m\n\u001b[1;32m----> 4\u001b[1;33m \u001b[0mmyset\u001b[0m\u001b[1;33m.\u001b[0m\u001b[0mremove\u001b[0m\u001b[1;33m(\u001b[0m\u001b[1;34m\"chuối2\"\u001b[0m\u001b[1;33m)\u001b[0m\u001b[1;33m\u001b[0m\u001b[1;33m\u001b[0m\u001b[0m\n\u001b[0m\u001b[0;32m      5\u001b[0m \u001b[0mprint\u001b[0m\u001b[1;33m(\u001b[0m\u001b[0mmyset\u001b[0m\u001b[1;33m)\u001b[0m\u001b[1;33m\u001b[0m\u001b[1;33m\u001b[0m\u001b[0m\n",
      "\u001b[1;31mKeyError\u001b[0m: 'chuối2'"
     ]
    }
   ],
   "source": [
    "# Xóa phần tử bằng remove(), nếu ko có thì sẽ báo lỗi\n",
    "# Cách 1: Xóa bằng remove()\n",
    "myset = {\"táo\", \"chuối\", \"anh đào\"}\n",
    "myset.remove(\"chuối2\")\n",
    "print(myset)"
   ]
  },
  {
   "cell_type": "code",
   "execution_count": null,
   "metadata": {
    "ExecuteTime": {
     "end_time": "2022-11-03T10:28:54.458876Z",
     "start_time": "2022-11-03T10:28:54.458876Z"
    }
   },
   "outputs": [],
   "source": [
    "# Sử dụng hàm discard() để xóa phần tử đi\n",
    "# Cách 2: Xóa bằng discard()\n",
    "myset = {\"táo\", \"chuối\", \"anh đào\"}\n",
    "myset.discard(\"chuối2\")\n",
    "print(myset)"
   ]
  },
  {
   "cell_type": "markdown",
   "metadata": {},
   "source": [
    "- Cũng có thể sử dụng phương thức pop() để xóa một phần tử, nhưng phương thức này sẽ xóa phần tử cuối cùng. \n",
    "- Hãy nhớ rằng các set không có thứ tự, vì vậy bạn sẽ không biết mục nào sẽ bị loại bỏ.\n",
    "- Giá trị trả về của phương thức pop() là phần tử bị loại bỏ đó."
   ]
  },
  {
   "cell_type": "code",
   "execution_count": 53,
   "metadata": {
    "ExecuteTime": {
     "end_time": "2022-11-03T10:28:54.644630Z",
     "start_time": "2022-11-03T10:28:54.626100Z"
    }
   },
   "outputs": [
    {
     "name": "stdout",
     "output_type": "stream",
     "text": [
      "táo\n"
     ]
    }
   ],
   "source": [
    "# Sử dụng hàm pop() để xóa phần tử ở cuối tập hợp đi\n",
    "myset = {\"táo\", \"chuối\", \"anh đào\"}\n",
    "ptu = myset.pop()\n",
    "print(ptu)"
   ]
  },
  {
   "cell_type": "markdown",
   "metadata": {},
   "source": [
    "### Cách duyệt qua từng phần tử"
   ]
  },
  {
   "cell_type": "code",
   "execution_count": 54,
   "metadata": {
    "ExecuteTime": {
     "end_time": "2022-11-03T10:28:54.891738Z",
     "start_time": "2022-11-03T10:28:54.883729Z"
    }
   },
   "outputs": [
    {
     "name": "stdout",
     "output_type": "stream",
     "text": [
      "táo\n",
      "anh đào\n",
      "chuối\n"
     ]
    }
   ],
   "source": [
    "# Sử dụng vòng lặp for để dyệt các phần tử trong sets\n",
    "myset = {\"táo\", \"chuối\", \"anh đào\"}\n",
    "for i in myset:\n",
    "    print(i)"
   ]
  },
  {
   "cell_type": "markdown",
   "metadata": {},
   "source": [
    "## Kiến thức về Python Dictionaries"
   ]
  },
  {
   "cell_type": "markdown",
   "metadata": {},
   "source": [
    "mydict = {\n",
    "  \"brand\": \"Ford\",\n",
    "  \"model\": \"Everest\",\n",
    "  \"year\": 2021\n",
    "}"
   ]
  },
  {
   "cell_type": "markdown",
   "metadata": {},
   "source": [
    "- Dictionaries được sử dụng để lưu trữ các giá trị dữ liệu trong các cặp key: value.\n",
    "- Dictionaries là một tập hợp được sắp xếp theo thứ tự, có thể thay đổi và không cho phép trùng lặp.\n",
    "- Kể từ phiên bản Python 3.7, các từ điển được sắp xếp theo thứ tự. Trong Python 3.6 trở về trước, từ điển không có thứ tự.\n",
    "- Dictionaries được viết bằng dấu {key:value}."
   ]
  },
  {
   "cell_type": "code",
   "execution_count": 55,
   "metadata": {
    "ExecuteTime": {
     "end_time": "2022-11-03T10:28:55.529667Z",
     "start_time": "2022-11-03T10:28:55.514102Z"
    }
   },
   "outputs": [
    {
     "name": "stdout",
     "output_type": "stream",
     "text": [
      "{'brand': 'Ford', 'model': 'Everest', 'year': 2021}\n"
     ]
    }
   ],
   "source": [
    "# Khai báo và khởi tạo 1 từ điển trong python\n",
    "mydict = {\n",
    "  \"brand\": \"Ford\",\n",
    "  \"model\": \"Everest\",\n",
    "  \"year\": 2021\n",
    "}\n",
    "print(mydict)"
   ]
  },
  {
   "cell_type": "markdown",
   "metadata": {},
   "source": [
    "- Các mục từ điển được sắp xếp theo thứ tự, có thể thay đổi và không cho phép trùng lặp.\n",
    "- Các mục từ điển được trình bày theo key:value và có thể được tham chiếu bằng cách sử dụng tên khóa."
   ]
  },
  {
   "cell_type": "code",
   "execution_count": 56,
   "metadata": {
    "ExecuteTime": {
     "end_time": "2022-11-03T10:28:55.794050Z",
     "start_time": "2022-11-03T10:28:55.776315Z"
    }
   },
   "outputs": [
    {
     "name": "stdout",
     "output_type": "stream",
     "text": [
      "Everest\n"
     ]
    }
   ],
   "source": [
    "# Khi muốn lấy ra giá trị (value) thì sẽ cung cấp khóa (key)\n",
    "print(mydict[\"model\"])"
   ]
  },
  {
   "cell_type": "markdown",
   "metadata": {},
   "source": [
    "- Khi chúng ta nói rằng từ điển được sắp xếp theo thứ tự, có nghĩa là các mục có thứ tự xác định và thứ tự đó sẽ không thay đổi.\n",
    "- Từ điển có thể thay đổi, nghĩa là chúng ta có thể thay đổi, thêm hoặc bớt các mục sau khi từ điển đã được tạo.\n",
    "- Từ điển không thể có hai phần tử với cùng một khóa.\n",
    "- Các giá trị trong các phần tử từ điển có thể thuộc bất kỳ kiểu dữ liệu nào."
   ]
  },
  {
   "cell_type": "code",
   "execution_count": 57,
   "metadata": {
    "ExecuteTime": {
     "end_time": "2022-11-03T10:28:56.058370Z",
     "start_time": "2022-11-03T10:28:56.053369Z"
    }
   },
   "outputs": [
    {
     "name": "stdout",
     "output_type": "stream",
     "text": [
      "{'brand': 'Ford', 'model': 'Everest', 'year': 2021, 'colors': ['red', 'white', 'blue']}\n"
     ]
    }
   ],
   "source": [
    "mydict = {\n",
    "  \"brand\": \"Ford\",\n",
    "  \"model\": \"Everest\",\n",
    "  \"year\": 2021,\n",
    "  \"colors\": [\"red\", \"white\", \"blue\"]\n",
    "}\n",
    "print(mydict)"
   ]
  },
  {
   "cell_type": "markdown",
   "metadata": {},
   "source": [
    "### Ví dụ 01"
   ]
  },
  {
   "cell_type": "code",
   "execution_count": 58,
   "metadata": {
    "ExecuteTime": {
     "end_time": "2022-11-03T10:28:56.400197Z",
     "start_time": "2022-11-03T10:28:56.395196Z"
    }
   },
   "outputs": [
    {
     "name": "stdout",
     "output_type": "stream",
     "text": [
      "Everest\n"
     ]
    }
   ],
   "source": [
    "# Sử dụng hàm get() để truy cập qua khóa lấy ra giá trị ở khóa đó\n",
    "# truy cập phần tử của từ điển\n",
    "mydict = {\n",
    "  \"brand\": \"Ford\",\n",
    "  \"model\": \"Everest\",\n",
    "  \"year\": 2021,\n",
    "  \"colors\": [\"red\", \"white\", \"blue\"]\n",
    "}\n",
    "# Sử dụng hàm get để lấy giá trị trong dictionary qua Key\n",
    "x = mydict.get(\"model\")\n",
    "print(x)"
   ]
  },
  {
   "cell_type": "markdown",
   "metadata": {},
   "source": [
    "### Ví dụ 02"
   ]
  },
  {
   "cell_type": "code",
   "execution_count": 59,
   "metadata": {
    "ExecuteTime": {
     "end_time": "2022-11-03T10:28:56.696871Z",
     "start_time": "2022-11-03T10:28:56.684729Z"
    }
   },
   "outputs": [
    {
     "name": "stdout",
     "output_type": "stream",
     "text": [
      "{'brand': 'Explorer', 'model': 'Ford', 'year': 2021, 'colors': ['red', 'white', 'blue']}\n"
     ]
    }
   ],
   "source": [
    "# Thay đổi dữ liệu cho từ điển hiện có\n",
    "# Thay đổi giá trị\n",
    "mydict = {\n",
    "  \"brand\": \"Ford\",\n",
    "  \"model\": \"Everest\",\n",
    "  \"year\": 2021,\n",
    "  \"colors\": [\"red\", \"white\", \"blue\"]\n",
    "}\n",
    "\n",
    "# Cập nhật thông tin trong Dictionary\n",
    "mydict[\"year\"] = 2021\n",
    "mydict[\"model\"] = \"Ford\"\n",
    "mydict[\"brand\"] = \"Explorer\"\n",
    "print(mydict)"
   ]
  },
  {
   "cell_type": "markdown",
   "metadata": {},
   "source": [
    "### Ví dụ 03"
   ]
  },
  {
   "cell_type": "code",
   "execution_count": 60,
   "metadata": {
    "ExecuteTime": {
     "end_time": "2022-11-03T10:28:56.992290Z",
     "start_time": "2022-11-03T10:28:56.977359Z"
    }
   },
   "outputs": [
    {
     "name": "stdout",
     "output_type": "stream",
     "text": [
      "Giá trị = brand\n",
      "Giá trị = model\n",
      "Giá trị = year\n",
      "Giá trị = colors\n"
     ]
    }
   ],
   "source": [
    "# sử dụng vòng lặp để duyệt Dictionary\n",
    "# In tất cả các tên khóa trong từ điển, từng cái một:\n",
    "mydict = {\n",
    "  \"brand\": \"Ford\",\n",
    "  \"model\": \"Everest\",\n",
    "  \"year\": 2021,\n",
    "  \"colors\": [\"red\", \"white\", \"blue\"]\n",
    "}\n",
    "\n",
    "# Cập nhật thông tin trong Dictionary\n",
    "mydict[\"year\"] = 2021\n",
    "mydict[\"model\"] = \"Ford\"\n",
    "mydict[\"brand\"] = \"Explorer\"\n",
    "\n",
    "# Sử dụng vòng lặp for để duyệt các phần tử bên trong dictionary\n",
    "for i in mydict:\n",
    "    print(f\"Giá trị = {i}\")"
   ]
  },
  {
   "cell_type": "markdown",
   "metadata": {},
   "source": [
    "### Ví dụ 04"
   ]
  },
  {
   "cell_type": "code",
   "execution_count": 61,
   "metadata": {
    "ExecuteTime": {
     "end_time": "2022-11-03T10:28:57.286949Z",
     "start_time": "2022-11-03T10:28:57.271873Z"
    }
   },
   "outputs": [
    {
     "name": "stdout",
     "output_type": "stream",
     "text": [
      "Ford\n",
      "Everest\n",
      "2021\n",
      "Key: brand - Value: Ford\n",
      "Key: model - Value: Everest\n",
      "Key: year - Value: 2021\n"
     ]
    }
   ],
   "source": [
    "# Sử dụng vòng lặp for để duyệt và hiển thị các giá trị\n",
    "mydict = {\n",
    "  \"brand\": \"Ford\",\n",
    "  \"model\": \"Everest\",\n",
    "  \"year\": 2021  \n",
    "}\n",
    "\n",
    "# Cách 01: Duyệt và lấy ra các giá trị từng phần tử\n",
    "for x in mydict:\n",
    "    print(mydict[x])\n",
    "    # print(mydict.get(x))\n",
    "\n",
    "# Cách 02: Duyệt và lấy ra các giá trị từng phần tử\n",
    "# print(mydict.values())\n",
    "\n",
    "# Cách 03: Duyệt và lấy ra từng phần tử\n",
    "for x, y in mydict.items():\n",
    "    print(f\"Key: {x} - Value: {y}\")"
   ]
  },
  {
   "cell_type": "markdown",
   "metadata": {},
   "source": [
    "### Ví dụ 05"
   ]
  },
  {
   "cell_type": "code",
   "execution_count": 62,
   "metadata": {
    "ExecuteTime": {
     "end_time": "2022-11-03T10:28:57.568440Z",
     "start_time": "2022-11-03T10:28:57.563494Z"
    }
   },
   "outputs": [
    {
     "name": "stdout",
     "output_type": "stream",
     "text": [
      "Có khóa model trong từ điển!\n"
     ]
    }
   ],
   "source": [
    "# Kiểm tra xem 1 khóa nào đó có tồn tại trong từ điển ko?\n",
    " # Khai báo khởi tạo từ điển\n",
    "mydict = {\n",
    "    \"brand\": \"Ford\",\n",
    "    \"model\": \"BMW\",\n",
    "    \"year\": 2020\n",
    "}\n",
    "\n",
    "# Kiểm tra xem 1 key nào đó có tồn tại trong từ điển?\n",
    "if \"model\" in mydict:\n",
    "    print(\"Có khóa model trong từ điển!\")"
   ]
  },
  {
   "cell_type": "markdown",
   "metadata": {},
   "source": [
    "### Ví dụ 06"
   ]
  },
  {
   "cell_type": "code",
   "execution_count": 63,
   "metadata": {
    "ExecuteTime": {
     "end_time": "2022-11-03T10:28:57.907252Z",
     "start_time": "2022-11-03T10:28:57.897201Z"
    }
   },
   "outputs": [
    {
     "name": "stdout",
     "output_type": "stream",
     "text": [
      "-> Số phần tử là: 3\n"
     ]
    }
   ],
   "source": [
    "# khai báo và khởi tạo từ điển\n",
    "mydict = {\n",
    "    \"brand\": \"Ford\",\n",
    "    \"model\": \"BMW\",\n",
    "    \"year\": 1964\n",
    "}\n",
    "# Kiểm tra số phần tử trong dictionary\n",
    "print(f\"-> Số phần tử là: {len(mydict)}\")"
   ]
  },
  {
   "cell_type": "markdown",
   "metadata": {},
   "source": [
    "### Ví dụ 07"
   ]
  },
  {
   "cell_type": "code",
   "execution_count": 64,
   "metadata": {
    "ExecuteTime": {
     "end_time": "2022-11-03T10:28:58.197433Z",
     "start_time": "2022-11-03T10:28:58.182229Z"
    }
   },
   "outputs": [
    {
     "name": "stdout",
     "output_type": "stream",
     "text": [
      "red :D\n",
      "red :D\n"
     ]
    }
   ],
   "source": [
    "# Thêm phần tử vào trong từ điển\n",
    "# khai báo và khởi tạo từ điển\n",
    "mydict = {\n",
    "    \"brand\": \"Ford\",\n",
    "    \"model\": \"BMW\",\n",
    "    \"year\": 1964\n",
    "}\n",
    "\n",
    "# Thêm mới 1 phần tử vào trong từ điển\n",
    "mydict[\"color\"] = \"red :D\"\n",
    "\n",
    "# Hiển thị dữ liệu trong từ điển\n",
    "print(mydict.get(\"color\"))\n",
    "print(mydict['color'])"
   ]
  },
  {
   "cell_type": "markdown",
   "metadata": {},
   "source": [
    "### Ví dụ 08"
   ]
  },
  {
   "cell_type": "code",
   "execution_count": 65,
   "metadata": {
    "ExecuteTime": {
     "end_time": "2022-11-03T10:28:58.480480Z",
     "start_time": "2022-11-03T10:28:58.463960Z"
    }
   },
   "outputs": [
    {
     "name": "stdout",
     "output_type": "stream",
     "text": [
      "{'brand': 'Ford', 'year': 1964}\n",
      "{'brand': 'Ford'}\n",
      "{}\n"
     ]
    }
   ],
   "source": [
    "# Sử dụng hàm pop() để xóa phần tử khỏi từ điển\n",
    "\n",
    "# khai báo và khởi tạo từ điển\n",
    "mydict = {\n",
    "    \"brand\": \"Ford\",\n",
    "    \"model\": \"BMW\",\n",
    "    \"year\": 1964\n",
    "}\n",
    "\n",
    "# Hàm pop() sẽ xóa phần tử theo Key.\n",
    "mydict.pop(\"model\")\n",
    "print(mydict)\n",
    "\n",
    "# Hàm popitem() sẽ xóa phần tử được thêm vào ở cuối.\n",
    "mydict.popitem()\n",
    "print(mydict)\n",
    "\n",
    "# Từ khóa del sẽ thực hiện xóa đi phần tử theo Key.\n",
    "# del mydict[\"model\"]\n",
    "# print(mydict)\n",
    "\n",
    "# Hàm clear() sử dụng để xóa trống các phần tử trong dictionary.\n",
    "mydict.clear()\n",
    "print(mydict)\n",
    "# {}\n",
    "\n",
    "# Từ khóa del có thể sử dụng để xóa hoàn toàn từ điển.\n",
    "del mydict"
   ]
  },
  {
   "cell_type": "markdown",
   "metadata": {},
   "source": [
    "### Ví dụ 09"
   ]
  },
  {
   "cell_type": "code",
   "execution_count": 66,
   "metadata": {
    "ExecuteTime": {
     "end_time": "2022-11-03T10:28:58.761960Z",
     "start_time": "2022-11-03T10:28:58.756829Z"
    }
   },
   "outputs": [
    {
     "name": "stdout",
     "output_type": "stream",
     "text": [
      "{'brand': 'Ford', 'model': 'BMW', 'year': 1964}\n",
      "{'brand': 'Ford', 'model': 'Honda', 'year': 1964}\n"
     ]
    }
   ],
   "source": [
    "# Sử dụng hàm copy() để sao chép dữ liệu giữa 2 từ điển với nhau\n",
    "\n",
    "# khai báo và khởi tạo từ điển\n",
    "dict1 = {\n",
    "    \"brand\": \"Ford\",\n",
    "    \"model\": \"BMW\",\n",
    "    \"year\": 1964\n",
    "}\n",
    "\n",
    "# dict2 = dict1 #-> Ko viết như này\n",
    "\n",
    "# Sử dụng hàm copy() để sao chép dữ liệu giữa 2 dictionary\n",
    "dict2 = dict1.copy()\n",
    "dict2[\"model\"] = \"Honda\"\n",
    "print(dict1)\n",
    "print(dict2)"
   ]
  },
  {
   "cell_type": "markdown",
   "metadata": {},
   "source": [
    "- Hoàn thành nhiệm vụ rồi :D"
   ]
  },
  {
   "cell_type": "markdown",
   "metadata": {},
   "source": []
  }
 ],
 "metadata": {
  "hide_input": false,
  "kernelspec": {
   "display_name": "Python 3 (ipykernel)",
   "language": "python",
   "name": "python3"
  },
  "language_info": {
   "codemirror_mode": {
    "name": "ipython",
    "version": 3
   },
   "file_extension": ".py",
   "mimetype": "text/x-python",
   "name": "python",
   "nbconvert_exporter": "python",
   "pygments_lexer": "ipython3",
   "version": "3.9.13"
  },
  "latex_envs": {
   "LaTeX_envs_menu_present": true,
   "autoclose": false,
   "autocomplete": true,
   "bibliofile": "biblio.bib",
   "cite_by": "apalike",
   "current_citInitial": 1,
   "eqLabelWithNumbers": true,
   "eqNumInitial": 1,
   "hotkeys": {
    "equation": "Ctrl-E",
    "itemize": "Ctrl-I"
   },
   "labels_anchors": false,
   "latex_user_defs": false,
   "report_style_numbering": false,
   "user_envs_cfg": false
  },
  "nbTranslate": {
   "displayLangs": [
    "*"
   ],
   "hotkey": "alt-t",
   "langInMainMenu": true,
   "sourceLang": "en",
   "targetLang": "fr",
   "useGoogleTranslate": true
  },
  "toc": {
   "base_numbering": 1,
   "nav_menu": {
    "height": "625px",
    "width": "670px"
   },
   "number_sections": true,
   "sideBar": true,
   "skip_h1_title": false,
   "title_cell": "Table of Contents",
   "title_sidebar": "Contents",
   "toc_cell": false,
   "toc_position": {
    "height": "calc(100% - 180px)",
    "left": "10px",
    "top": "150px",
    "width": "306.188px"
   },
   "toc_section_display": true,
   "toc_window_display": true
  },
  "varInspector": {
   "cols": {
    "lenName": 16,
    "lenType": 16,
    "lenVar": 40
   },
   "kernels_config": {
    "python": {
     "delete_cmd_postfix": "",
     "delete_cmd_prefix": "del ",
     "library": "var_list.py",
     "varRefreshCmd": "print(var_dic_list())"
    },
    "r": {
     "delete_cmd_postfix": ") ",
     "delete_cmd_prefix": "rm(",
     "library": "var_list.r",
     "varRefreshCmd": "cat(var_dic_list()) "
    }
   },
   "types_to_exclude": [
    "module",
    "function",
    "builtin_function_or_method",
    "instance",
    "_Feature"
   ],
   "window_display": false
  }
 },
 "nbformat": 4,
 "nbformat_minor": 4
}
